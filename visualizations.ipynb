{
 "cells": [
  {
   "cell_type": "code",
   "execution_count": 18,
   "metadata": {},
   "outputs": [],
   "source": [
    "import pandas as pd\n",
    "import plotly.express as px"
   ]
  },
  {
   "cell_type": "code",
   "execution_count": 19,
   "metadata": {},
   "outputs": [
    {
     "data": {
      "text/html": [
       "<div>\n",
       "<style scoped>\n",
       "    .dataframe tbody tr th:only-of-type {\n",
       "        vertical-align: middle;\n",
       "    }\n",
       "\n",
       "    .dataframe tbody tr th {\n",
       "        vertical-align: top;\n",
       "    }\n",
       "\n",
       "    .dataframe thead th {\n",
       "        text-align: right;\n",
       "    }\n",
       "</style>\n",
       "<table border=\"1\" class=\"dataframe\">\n",
       "  <thead>\n",
       "    <tr style=\"text-align: right;\">\n",
       "      <th></th>\n",
       "      <th>Unnamed: 0</th>\n",
       "      <th>year</th>\n",
       "      <th>gameid</th>\n",
       "      <th>league</th>\n",
       "      <th>teamname</th>\n",
       "      <th>side</th>\n",
       "      <th>ban1</th>\n",
       "      <th>ban2</th>\n",
       "      <th>ban3</th>\n",
       "      <th>ban4</th>\n",
       "      <th>...</th>\n",
       "      <th>pick2</th>\n",
       "      <th>pick3</th>\n",
       "      <th>pick4</th>\n",
       "      <th>pick5</th>\n",
       "      <th>result</th>\n",
       "      <th>num_counters_picked</th>\n",
       "      <th>num_counters_banned</th>\n",
       "      <th>PGA</th>\n",
       "      <th>mean_champ_wr</th>\n",
       "      <th>higher_PGA</th>\n",
       "    </tr>\n",
       "  </thead>\n",
       "  <tbody>\n",
       "    <tr>\n",
       "      <th>0</th>\n",
       "      <td>0</td>\n",
       "      <td>2017</td>\n",
       "      <td>1506-1540</td>\n",
       "      <td>LPL</td>\n",
       "      <td>I May</td>\n",
       "      <td>Blue</td>\n",
       "      <td>Syndra</td>\n",
       "      <td>Malzahar</td>\n",
       "      <td>Ashe</td>\n",
       "      <td>Karma</td>\n",
       "      <td>...</td>\n",
       "      <td>Kha'Zix</td>\n",
       "      <td>Cassiopeia</td>\n",
       "      <td>Varus</td>\n",
       "      <td>Tahm Kench</td>\n",
       "      <td>1</td>\n",
       "      <td>0</td>\n",
       "      <td>2</td>\n",
       "      <td>2</td>\n",
       "      <td>0.508666</td>\n",
       "      <td>1</td>\n",
       "    </tr>\n",
       "    <tr>\n",
       "      <th>1</th>\n",
       "      <td>1</td>\n",
       "      <td>2017</td>\n",
       "      <td>1506-1540</td>\n",
       "      <td>LPL</td>\n",
       "      <td>Royal Never Give Up</td>\n",
       "      <td>Red</td>\n",
       "      <td>Camille</td>\n",
       "      <td>Rengar</td>\n",
       "      <td>Zyra</td>\n",
       "      <td>Elise</td>\n",
       "      <td>...</td>\n",
       "      <td>Lee Sin</td>\n",
       "      <td>Ryze</td>\n",
       "      <td>Caitlyn</td>\n",
       "      <td>Nautilus</td>\n",
       "      <td>0</td>\n",
       "      <td>0</td>\n",
       "      <td>0</td>\n",
       "      <td>0</td>\n",
       "      <td>0.493086</td>\n",
       "      <td>0</td>\n",
       "    </tr>\n",
       "    <tr>\n",
       "      <th>2</th>\n",
       "      <td>2</td>\n",
       "      <td>2017</td>\n",
       "      <td>1506-1541</td>\n",
       "      <td>LPL</td>\n",
       "      <td>I May</td>\n",
       "      <td>Blue</td>\n",
       "      <td>Syndra</td>\n",
       "      <td>Malzahar</td>\n",
       "      <td>Ashe</td>\n",
       "      <td>Rek'Sai</td>\n",
       "      <td>...</td>\n",
       "      <td>Lee Sin</td>\n",
       "      <td>Corki</td>\n",
       "      <td>Caitlyn</td>\n",
       "      <td>Thresh</td>\n",
       "      <td>1</td>\n",
       "      <td>0</td>\n",
       "      <td>0</td>\n",
       "      <td>0</td>\n",
       "      <td>0.510833</td>\n",
       "      <td>0</td>\n",
       "    </tr>\n",
       "    <tr>\n",
       "      <th>3</th>\n",
       "      <td>3</td>\n",
       "      <td>2017</td>\n",
       "      <td>1506-1541</td>\n",
       "      <td>LPL</td>\n",
       "      <td>Royal Never Give Up</td>\n",
       "      <td>Red</td>\n",
       "      <td>Rengar</td>\n",
       "      <td>Camille</td>\n",
       "      <td>Varus</td>\n",
       "      <td>Cassiopeia</td>\n",
       "      <td>...</td>\n",
       "      <td>Rumble</td>\n",
       "      <td>Ryze</td>\n",
       "      <td>Jhin</td>\n",
       "      <td>Zyra</td>\n",
       "      <td>0</td>\n",
       "      <td>1</td>\n",
       "      <td>0</td>\n",
       "      <td>1</td>\n",
       "      <td>0.492558</td>\n",
       "      <td>1</td>\n",
       "    </tr>\n",
       "    <tr>\n",
       "      <th>4</th>\n",
       "      <td>4</td>\n",
       "      <td>2017</td>\n",
       "      <td>1507-1544</td>\n",
       "      <td>LPL</td>\n",
       "      <td>Invictus Gaming</td>\n",
       "      <td>Blue</td>\n",
       "      <td>Jayce</td>\n",
       "      <td>Elise</td>\n",
       "      <td>Malzahar</td>\n",
       "      <td>Kha'Zix</td>\n",
       "      <td>...</td>\n",
       "      <td>Rengar</td>\n",
       "      <td>LeBlanc</td>\n",
       "      <td>Varus</td>\n",
       "      <td>Tahm Kench</td>\n",
       "      <td>1</td>\n",
       "      <td>0</td>\n",
       "      <td>1</td>\n",
       "      <td>1</td>\n",
       "      <td>0.492380</td>\n",
       "      <td>0</td>\n",
       "    </tr>\n",
       "    <tr>\n",
       "      <th>...</th>\n",
       "      <td>...</td>\n",
       "      <td>...</td>\n",
       "      <td>...</td>\n",
       "      <td>...</td>\n",
       "      <td>...</td>\n",
       "      <td>...</td>\n",
       "      <td>...</td>\n",
       "      <td>...</td>\n",
       "      <td>...</td>\n",
       "      <td>...</td>\n",
       "      <td>...</td>\n",
       "      <td>...</td>\n",
       "      <td>...</td>\n",
       "      <td>...</td>\n",
       "      <td>...</td>\n",
       "      <td>...</td>\n",
       "      <td>...</td>\n",
       "      <td>...</td>\n",
       "      <td>...</td>\n",
       "      <td>...</td>\n",
       "      <td>...</td>\n",
       "    </tr>\n",
       "    <tr>\n",
       "      <th>88345</th>\n",
       "      <td>119955</td>\n",
       "      <td>2025</td>\n",
       "      <td>LOLTMNT06_96854</td>\n",
       "      <td>LFL</td>\n",
       "      <td>Vitality.Bee</td>\n",
       "      <td>Red</td>\n",
       "      <td>Skarner</td>\n",
       "      <td>Viktor</td>\n",
       "      <td>Maokai</td>\n",
       "      <td>Rell</td>\n",
       "      <td>...</td>\n",
       "      <td>Ivern</td>\n",
       "      <td>Sylas</td>\n",
       "      <td>Varus</td>\n",
       "      <td>Nautilus</td>\n",
       "      <td>1</td>\n",
       "      <td>1</td>\n",
       "      <td>1</td>\n",
       "      <td>2</td>\n",
       "      <td>0.497897</td>\n",
       "      <td>1</td>\n",
       "    </tr>\n",
       "    <tr>\n",
       "      <th>88346</th>\n",
       "      <td>119956</td>\n",
       "      <td>2025</td>\n",
       "      <td>LOLTMNT06_96867</td>\n",
       "      <td>LFL2</td>\n",
       "      <td>Zerance</td>\n",
       "      <td>Blue</td>\n",
       "      <td>Aurora</td>\n",
       "      <td>Karthus</td>\n",
       "      <td>Kayn</td>\n",
       "      <td>Galio</td>\n",
       "      <td>...</td>\n",
       "      <td>Xin Zhao</td>\n",
       "      <td>Sylas</td>\n",
       "      <td>Corki</td>\n",
       "      <td>Nautilus</td>\n",
       "      <td>0</td>\n",
       "      <td>1</td>\n",
       "      <td>2</td>\n",
       "      <td>3</td>\n",
       "      <td>0.501714</td>\n",
       "      <td>1</td>\n",
       "    </tr>\n",
       "    <tr>\n",
       "      <th>88347</th>\n",
       "      <td>119957</td>\n",
       "      <td>2025</td>\n",
       "      <td>LOLTMNT06_96867</td>\n",
       "      <td>LFL2</td>\n",
       "      <td>Project Conquerors</td>\n",
       "      <td>Red</td>\n",
       "      <td>Viktor</td>\n",
       "      <td>K'Sante</td>\n",
       "      <td>Ivern</td>\n",
       "      <td>Jayce</td>\n",
       "      <td>...</td>\n",
       "      <td>Amumu</td>\n",
       "      <td>Ambessa</td>\n",
       "      <td>Varus</td>\n",
       "      <td>Rell</td>\n",
       "      <td>1</td>\n",
       "      <td>2</td>\n",
       "      <td>0</td>\n",
       "      <td>2</td>\n",
       "      <td>0.509128</td>\n",
       "      <td>0</td>\n",
       "    </tr>\n",
       "    <tr>\n",
       "      <th>88348</th>\n",
       "      <td>119960</td>\n",
       "      <td>2025</td>\n",
       "      <td>LOLTMNT06_96906</td>\n",
       "      <td>LFL2</td>\n",
       "      <td>IZI Dream</td>\n",
       "      <td>Blue</td>\n",
       "      <td>Akali</td>\n",
       "      <td>Rell</td>\n",
       "      <td>Varus</td>\n",
       "      <td>Skarner</td>\n",
       "      <td>...</td>\n",
       "      <td>Maokai</td>\n",
       "      <td>Corki</td>\n",
       "      <td>Kai'Sa</td>\n",
       "      <td>Rakan</td>\n",
       "      <td>1</td>\n",
       "      <td>1</td>\n",
       "      <td>2</td>\n",
       "      <td>3</td>\n",
       "      <td>0.516646</td>\n",
       "      <td>1</td>\n",
       "    </tr>\n",
       "    <tr>\n",
       "      <th>88349</th>\n",
       "      <td>119961</td>\n",
       "      <td>2025</td>\n",
       "      <td>LOLTMNT06_96906</td>\n",
       "      <td>LFL2</td>\n",
       "      <td>Project Conquerors</td>\n",
       "      <td>Red</td>\n",
       "      <td>Orianna</td>\n",
       "      <td>Ivern</td>\n",
       "      <td>Poppy</td>\n",
       "      <td>Jayce</td>\n",
       "      <td>...</td>\n",
       "      <td>Karthus</td>\n",
       "      <td>Yone</td>\n",
       "      <td>Ezreal</td>\n",
       "      <td>Leona</td>\n",
       "      <td>0</td>\n",
       "      <td>0</td>\n",
       "      <td>1</td>\n",
       "      <td>1</td>\n",
       "      <td>0.495225</td>\n",
       "      <td>0</td>\n",
       "    </tr>\n",
       "  </tbody>\n",
       "</table>\n",
       "<p>88350 rows × 22 columns</p>\n",
       "</div>"
      ],
      "text/plain": [
       "       Unnamed: 0  year           gameid league             teamname  side  \\\n",
       "0               0  2017        1506-1540    LPL                I May  Blue   \n",
       "1               1  2017        1506-1540    LPL  Royal Never Give Up   Red   \n",
       "2               2  2017        1506-1541    LPL                I May  Blue   \n",
       "3               3  2017        1506-1541    LPL  Royal Never Give Up   Red   \n",
       "4               4  2017        1507-1544    LPL      Invictus Gaming  Blue   \n",
       "...           ...   ...              ...    ...                  ...   ...   \n",
       "88345      119955  2025  LOLTMNT06_96854    LFL         Vitality.Bee   Red   \n",
       "88346      119956  2025  LOLTMNT06_96867   LFL2              Zerance  Blue   \n",
       "88347      119957  2025  LOLTMNT06_96867   LFL2   Project Conquerors   Red   \n",
       "88348      119960  2025  LOLTMNT06_96906   LFL2            IZI Dream  Blue   \n",
       "88349      119961  2025  LOLTMNT06_96906   LFL2   Project Conquerors   Red   \n",
       "\n",
       "          ban1      ban2      ban3        ban4  ...     pick2       pick3  \\\n",
       "0       Syndra  Malzahar      Ashe       Karma  ...   Kha'Zix  Cassiopeia   \n",
       "1      Camille    Rengar      Zyra       Elise  ...   Lee Sin        Ryze   \n",
       "2       Syndra  Malzahar      Ashe     Rek'Sai  ...   Lee Sin       Corki   \n",
       "3       Rengar   Camille     Varus  Cassiopeia  ...    Rumble        Ryze   \n",
       "4        Jayce     Elise  Malzahar     Kha'Zix  ...    Rengar     LeBlanc   \n",
       "...        ...       ...       ...         ...  ...       ...         ...   \n",
       "88345  Skarner    Viktor    Maokai        Rell  ...     Ivern       Sylas   \n",
       "88346   Aurora   Karthus      Kayn       Galio  ...  Xin Zhao       Sylas   \n",
       "88347   Viktor   K'Sante     Ivern       Jayce  ...     Amumu     Ambessa   \n",
       "88348    Akali      Rell     Varus     Skarner  ...    Maokai       Corki   \n",
       "88349  Orianna     Ivern     Poppy       Jayce  ...   Karthus        Yone   \n",
       "\n",
       "         pick4       pick5 result num_counters_picked  num_counters_banned  \\\n",
       "0        Varus  Tahm Kench      1                   0                    2   \n",
       "1      Caitlyn    Nautilus      0                   0                    0   \n",
       "2      Caitlyn      Thresh      1                   0                    0   \n",
       "3         Jhin        Zyra      0                   1                    0   \n",
       "4        Varus  Tahm Kench      1                   0                    1   \n",
       "...        ...         ...    ...                 ...                  ...   \n",
       "88345    Varus    Nautilus      1                   1                    1   \n",
       "88346    Corki    Nautilus      0                   1                    2   \n",
       "88347    Varus        Rell      1                   2                    0   \n",
       "88348   Kai'Sa       Rakan      1                   1                    2   \n",
       "88349   Ezreal       Leona      0                   0                    1   \n",
       "\n",
       "       PGA  mean_champ_wr  higher_PGA  \n",
       "0        2       0.508666           1  \n",
       "1        0       0.493086           0  \n",
       "2        0       0.510833           0  \n",
       "3        1       0.492558           1  \n",
       "4        1       0.492380           0  \n",
       "...    ...            ...         ...  \n",
       "88345    2       0.497897           1  \n",
       "88346    3       0.501714           1  \n",
       "88347    2       0.509128           0  \n",
       "88348    3       0.516646           1  \n",
       "88349    1       0.495225           0  \n",
       "\n",
       "[88350 rows x 22 columns]"
      ]
     },
     "execution_count": 19,
     "metadata": {},
     "output_type": "execute_result"
    }
   ],
   "source": [
    "df = pd.read_csv(\"transformed_data.csv\")\n",
    "df"
   ]
  },
  {
   "cell_type": "code",
   "execution_count": 20,
   "metadata": {},
   "outputs": [],
   "source": [
    "bin_edges = list(range(11))\n",
    "bin_counts = df[\"PGA\"].value_counts().reindex(bin_edges, fill_value=0).reset_index()\n",
    "bin_counts.columns = [\"PGA\", \"Count\"]\n",
    "\n",
    "fig = px.bar(\n",
    "    bin_counts,\n",
    "    x=\"PGA\",\n",
    "    y=\"Count\",\n",
    "    title=\"Distribution of Pre Game Advantages\",\n",
    "    labels={\"PGA\": \"PGA Value\", \"Count\": \"Count\"},\n",
    "    text_auto=True\n",
    ")\n",
    "\n",
    "fig.update_layout(\n",
    "    xaxis=dict(type=\"category\"),\n",
    "    bargap=0.05  \n",
    ")\n",
    "\n",
    "fig.write_html('uni.html', include_plotlyjs='cdn')\n"
   ]
  },
  {
   "cell_type": "code",
   "execution_count": 21,
   "metadata": {},
   "outputs": [
    {
     "data": {
      "text/plain": [
       "'\\nNote that there are more teams with PGA. Meaning, most teams either counter picked the enemy or banned one of their counters. \\nThis leads us to believe that players are considering the affect of counter matchups\\n'"
      ]
     },
     "execution_count": 21,
     "metadata": {},
     "output_type": "execute_result"
    }
   ],
   "source": [
    "import plotly.express as px\n",
    "\n",
    "data = {\n",
    "    \"Category\": [\"Teans with PGA\", \"Teams with no PGA\"],\n",
    "    \"Values\": [\n",
    "        df[df['PGA'] != 0].shape[0], \n",
    "        df[df['PGA'] == 0].shape[0], \n",
    "    ]\n",
    "}\n",
    "\n",
    "fig = px.pie(\n",
    "    names=data[\"Category\"],  \n",
    "    values=data[\"Values\"],   \n",
    "    title=\"How common is PGA?\"\n",
    ")\n",
    "\n",
    "# Show plot\n",
    "fig.write_html('uni2.html', include_plotlyjs='cdn')\n",
    "\n",
    "\n",
    "\"\"\"\n",
    "Note that there are more teams with PGA. Meaning, most teams either counter picked the enemy or banned one of their counters. \n",
    "This leads us to believe that players are considering the affect of counter matchups\n",
    "\"\"\""
   ]
  },
  {
   "cell_type": "code",
   "execution_count": 22,
   "metadata": {},
   "outputs": [
    {
     "data": {
      "application/vnd.plotly.v1+json": {
       "config": {
        "plotlyServerURL": "https://plot.ly"
       },
       "data": [
        {
         "domain": {
          "x": [
           0,
           1
          ],
          "y": [
           0,
           1
          ]
         },
         "hovertemplate": "label=%{label}<br>value=%{value}<extra></extra>",
         "labels": [
          "Wins with PGA = 0",
          "Wins with PGA > 0"
         ],
         "legendgroup": "",
         "name": "",
         "showlegend": true,
         "type": "pie",
         "values": [
          12152,
          32021
         ]
        }
       ],
       "layout": {
        "legend": {
         "tracegroupgap": 0
        },
        "template": {
         "data": {
          "bar": [
           {
            "error_x": {
             "color": "#2a3f5f"
            },
            "error_y": {
             "color": "#2a3f5f"
            },
            "marker": {
             "line": {
              "color": "#E5ECF6",
              "width": 0.5
             },
             "pattern": {
              "fillmode": "overlay",
              "size": 10,
              "solidity": 0.2
             }
            },
            "type": "bar"
           }
          ],
          "barpolar": [
           {
            "marker": {
             "line": {
              "color": "#E5ECF6",
              "width": 0.5
             },
             "pattern": {
              "fillmode": "overlay",
              "size": 10,
              "solidity": 0.2
             }
            },
            "type": "barpolar"
           }
          ],
          "carpet": [
           {
            "aaxis": {
             "endlinecolor": "#2a3f5f",
             "gridcolor": "white",
             "linecolor": "white",
             "minorgridcolor": "white",
             "startlinecolor": "#2a3f5f"
            },
            "baxis": {
             "endlinecolor": "#2a3f5f",
             "gridcolor": "white",
             "linecolor": "white",
             "minorgridcolor": "white",
             "startlinecolor": "#2a3f5f"
            },
            "type": "carpet"
           }
          ],
          "choropleth": [
           {
            "colorbar": {
             "outlinewidth": 0,
             "ticks": ""
            },
            "type": "choropleth"
           }
          ],
          "contour": [
           {
            "colorbar": {
             "outlinewidth": 0,
             "ticks": ""
            },
            "colorscale": [
             [
              0,
              "#0d0887"
             ],
             [
              0.1111111111111111,
              "#46039f"
             ],
             [
              0.2222222222222222,
              "#7201a8"
             ],
             [
              0.3333333333333333,
              "#9c179e"
             ],
             [
              0.4444444444444444,
              "#bd3786"
             ],
             [
              0.5555555555555556,
              "#d8576b"
             ],
             [
              0.6666666666666666,
              "#ed7953"
             ],
             [
              0.7777777777777778,
              "#fb9f3a"
             ],
             [
              0.8888888888888888,
              "#fdca26"
             ],
             [
              1,
              "#f0f921"
             ]
            ],
            "type": "contour"
           }
          ],
          "contourcarpet": [
           {
            "colorbar": {
             "outlinewidth": 0,
             "ticks": ""
            },
            "type": "contourcarpet"
           }
          ],
          "heatmap": [
           {
            "colorbar": {
             "outlinewidth": 0,
             "ticks": ""
            },
            "colorscale": [
             [
              0,
              "#0d0887"
             ],
             [
              0.1111111111111111,
              "#46039f"
             ],
             [
              0.2222222222222222,
              "#7201a8"
             ],
             [
              0.3333333333333333,
              "#9c179e"
             ],
             [
              0.4444444444444444,
              "#bd3786"
             ],
             [
              0.5555555555555556,
              "#d8576b"
             ],
             [
              0.6666666666666666,
              "#ed7953"
             ],
             [
              0.7777777777777778,
              "#fb9f3a"
             ],
             [
              0.8888888888888888,
              "#fdca26"
             ],
             [
              1,
              "#f0f921"
             ]
            ],
            "type": "heatmap"
           }
          ],
          "heatmapgl": [
           {
            "colorbar": {
             "outlinewidth": 0,
             "ticks": ""
            },
            "colorscale": [
             [
              0,
              "#0d0887"
             ],
             [
              0.1111111111111111,
              "#46039f"
             ],
             [
              0.2222222222222222,
              "#7201a8"
             ],
             [
              0.3333333333333333,
              "#9c179e"
             ],
             [
              0.4444444444444444,
              "#bd3786"
             ],
             [
              0.5555555555555556,
              "#d8576b"
             ],
             [
              0.6666666666666666,
              "#ed7953"
             ],
             [
              0.7777777777777778,
              "#fb9f3a"
             ],
             [
              0.8888888888888888,
              "#fdca26"
             ],
             [
              1,
              "#f0f921"
             ]
            ],
            "type": "heatmapgl"
           }
          ],
          "histogram": [
           {
            "marker": {
             "pattern": {
              "fillmode": "overlay",
              "size": 10,
              "solidity": 0.2
             }
            },
            "type": "histogram"
           }
          ],
          "histogram2d": [
           {
            "colorbar": {
             "outlinewidth": 0,
             "ticks": ""
            },
            "colorscale": [
             [
              0,
              "#0d0887"
             ],
             [
              0.1111111111111111,
              "#46039f"
             ],
             [
              0.2222222222222222,
              "#7201a8"
             ],
             [
              0.3333333333333333,
              "#9c179e"
             ],
             [
              0.4444444444444444,
              "#bd3786"
             ],
             [
              0.5555555555555556,
              "#d8576b"
             ],
             [
              0.6666666666666666,
              "#ed7953"
             ],
             [
              0.7777777777777778,
              "#fb9f3a"
             ],
             [
              0.8888888888888888,
              "#fdca26"
             ],
             [
              1,
              "#f0f921"
             ]
            ],
            "type": "histogram2d"
           }
          ],
          "histogram2dcontour": [
           {
            "colorbar": {
             "outlinewidth": 0,
             "ticks": ""
            },
            "colorscale": [
             [
              0,
              "#0d0887"
             ],
             [
              0.1111111111111111,
              "#46039f"
             ],
             [
              0.2222222222222222,
              "#7201a8"
             ],
             [
              0.3333333333333333,
              "#9c179e"
             ],
             [
              0.4444444444444444,
              "#bd3786"
             ],
             [
              0.5555555555555556,
              "#d8576b"
             ],
             [
              0.6666666666666666,
              "#ed7953"
             ],
             [
              0.7777777777777778,
              "#fb9f3a"
             ],
             [
              0.8888888888888888,
              "#fdca26"
             ],
             [
              1,
              "#f0f921"
             ]
            ],
            "type": "histogram2dcontour"
           }
          ],
          "mesh3d": [
           {
            "colorbar": {
             "outlinewidth": 0,
             "ticks": ""
            },
            "type": "mesh3d"
           }
          ],
          "parcoords": [
           {
            "line": {
             "colorbar": {
              "outlinewidth": 0,
              "ticks": ""
             }
            },
            "type": "parcoords"
           }
          ],
          "pie": [
           {
            "automargin": true,
            "type": "pie"
           }
          ],
          "scatter": [
           {
            "fillpattern": {
             "fillmode": "overlay",
             "size": 10,
             "solidity": 0.2
            },
            "type": "scatter"
           }
          ],
          "scatter3d": [
           {
            "line": {
             "colorbar": {
              "outlinewidth": 0,
              "ticks": ""
             }
            },
            "marker": {
             "colorbar": {
              "outlinewidth": 0,
              "ticks": ""
             }
            },
            "type": "scatter3d"
           }
          ],
          "scattercarpet": [
           {
            "marker": {
             "colorbar": {
              "outlinewidth": 0,
              "ticks": ""
             }
            },
            "type": "scattercarpet"
           }
          ],
          "scattergeo": [
           {
            "marker": {
             "colorbar": {
              "outlinewidth": 0,
              "ticks": ""
             }
            },
            "type": "scattergeo"
           }
          ],
          "scattergl": [
           {
            "marker": {
             "colorbar": {
              "outlinewidth": 0,
              "ticks": ""
             }
            },
            "type": "scattergl"
           }
          ],
          "scattermapbox": [
           {
            "marker": {
             "colorbar": {
              "outlinewidth": 0,
              "ticks": ""
             }
            },
            "type": "scattermapbox"
           }
          ],
          "scatterpolar": [
           {
            "marker": {
             "colorbar": {
              "outlinewidth": 0,
              "ticks": ""
             }
            },
            "type": "scatterpolar"
           }
          ],
          "scatterpolargl": [
           {
            "marker": {
             "colorbar": {
              "outlinewidth": 0,
              "ticks": ""
             }
            },
            "type": "scatterpolargl"
           }
          ],
          "scatterternary": [
           {
            "marker": {
             "colorbar": {
              "outlinewidth": 0,
              "ticks": ""
             }
            },
            "type": "scatterternary"
           }
          ],
          "surface": [
           {
            "colorbar": {
             "outlinewidth": 0,
             "ticks": ""
            },
            "colorscale": [
             [
              0,
              "#0d0887"
             ],
             [
              0.1111111111111111,
              "#46039f"
             ],
             [
              0.2222222222222222,
              "#7201a8"
             ],
             [
              0.3333333333333333,
              "#9c179e"
             ],
             [
              0.4444444444444444,
              "#bd3786"
             ],
             [
              0.5555555555555556,
              "#d8576b"
             ],
             [
              0.6666666666666666,
              "#ed7953"
             ],
             [
              0.7777777777777778,
              "#fb9f3a"
             ],
             [
              0.8888888888888888,
              "#fdca26"
             ],
             [
              1,
              "#f0f921"
             ]
            ],
            "type": "surface"
           }
          ],
          "table": [
           {
            "cells": {
             "fill": {
              "color": "#EBF0F8"
             },
             "line": {
              "color": "white"
             }
            },
            "header": {
             "fill": {
              "color": "#C8D4E3"
             },
             "line": {
              "color": "white"
             }
            },
            "type": "table"
           }
          ]
         },
         "layout": {
          "annotationdefaults": {
           "arrowcolor": "#2a3f5f",
           "arrowhead": 0,
           "arrowwidth": 1
          },
          "autotypenumbers": "strict",
          "coloraxis": {
           "colorbar": {
            "outlinewidth": 0,
            "ticks": ""
           }
          },
          "colorscale": {
           "diverging": [
            [
             0,
             "#8e0152"
            ],
            [
             0.1,
             "#c51b7d"
            ],
            [
             0.2,
             "#de77ae"
            ],
            [
             0.3,
             "#f1b6da"
            ],
            [
             0.4,
             "#fde0ef"
            ],
            [
             0.5,
             "#f7f7f7"
            ],
            [
             0.6,
             "#e6f5d0"
            ],
            [
             0.7,
             "#b8e186"
            ],
            [
             0.8,
             "#7fbc41"
            ],
            [
             0.9,
             "#4d9221"
            ],
            [
             1,
             "#276419"
            ]
           ],
           "sequential": [
            [
             0,
             "#0d0887"
            ],
            [
             0.1111111111111111,
             "#46039f"
            ],
            [
             0.2222222222222222,
             "#7201a8"
            ],
            [
             0.3333333333333333,
             "#9c179e"
            ],
            [
             0.4444444444444444,
             "#bd3786"
            ],
            [
             0.5555555555555556,
             "#d8576b"
            ],
            [
             0.6666666666666666,
             "#ed7953"
            ],
            [
             0.7777777777777778,
             "#fb9f3a"
            ],
            [
             0.8888888888888888,
             "#fdca26"
            ],
            [
             1,
             "#f0f921"
            ]
           ],
           "sequentialminus": [
            [
             0,
             "#0d0887"
            ],
            [
             0.1111111111111111,
             "#46039f"
            ],
            [
             0.2222222222222222,
             "#7201a8"
            ],
            [
             0.3333333333333333,
             "#9c179e"
            ],
            [
             0.4444444444444444,
             "#bd3786"
            ],
            [
             0.5555555555555556,
             "#d8576b"
            ],
            [
             0.6666666666666666,
             "#ed7953"
            ],
            [
             0.7777777777777778,
             "#fb9f3a"
            ],
            [
             0.8888888888888888,
             "#fdca26"
            ],
            [
             1,
             "#f0f921"
            ]
           ]
          },
          "colorway": [
           "#636efa",
           "#EF553B",
           "#00cc96",
           "#ab63fa",
           "#FFA15A",
           "#19d3f3",
           "#FF6692",
           "#B6E880",
           "#FF97FF",
           "#FECB52"
          ],
          "font": {
           "color": "#2a3f5f"
          },
          "geo": {
           "bgcolor": "white",
           "lakecolor": "white",
           "landcolor": "#E5ECF6",
           "showlakes": true,
           "showland": true,
           "subunitcolor": "white"
          },
          "hoverlabel": {
           "align": "left"
          },
          "hovermode": "closest",
          "mapbox": {
           "style": "light"
          },
          "paper_bgcolor": "white",
          "plot_bgcolor": "#E5ECF6",
          "polar": {
           "angularaxis": {
            "gridcolor": "white",
            "linecolor": "white",
            "ticks": ""
           },
           "bgcolor": "#E5ECF6",
           "radialaxis": {
            "gridcolor": "white",
            "linecolor": "white",
            "ticks": ""
           }
          },
          "scene": {
           "xaxis": {
            "backgroundcolor": "#E5ECF6",
            "gridcolor": "white",
            "gridwidth": 2,
            "linecolor": "white",
            "showbackground": true,
            "ticks": "",
            "zerolinecolor": "white"
           },
           "yaxis": {
            "backgroundcolor": "#E5ECF6",
            "gridcolor": "white",
            "gridwidth": 2,
            "linecolor": "white",
            "showbackground": true,
            "ticks": "",
            "zerolinecolor": "white"
           },
           "zaxis": {
            "backgroundcolor": "#E5ECF6",
            "gridcolor": "white",
            "gridwidth": 2,
            "linecolor": "white",
            "showbackground": true,
            "ticks": "",
            "zerolinecolor": "white"
           }
          },
          "shapedefaults": {
           "line": {
            "color": "#2a3f5f"
           }
          },
          "ternary": {
           "aaxis": {
            "gridcolor": "white",
            "linecolor": "white",
            "ticks": ""
           },
           "baxis": {
            "gridcolor": "white",
            "linecolor": "white",
            "ticks": ""
           },
           "bgcolor": "#E5ECF6",
           "caxis": {
            "gridcolor": "white",
            "linecolor": "white",
            "ticks": ""
           }
          },
          "title": {
           "x": 0.05
          },
          "xaxis": {
           "automargin": true,
           "gridcolor": "white",
           "linecolor": "white",
           "ticks": "",
           "title": {
            "standoff": 15
           },
           "zerolinecolor": "white",
           "zerolinewidth": 2
          },
          "yaxis": {
           "automargin": true,
           "gridcolor": "white",
           "linecolor": "white",
           "ticks": "",
           "title": {
            "standoff": 15
           },
           "zerolinecolor": "white",
           "zerolinewidth": 2
          }
         }
        },
        "title": {
         "text": "Distribution of Winners - When PGA present / missing"
        }
       }
      }
     },
     "metadata": {},
     "output_type": "display_data"
    },
    {
     "data": {
      "text/plain": [
       "'\\nNote that most winning teams have at least one PGA. As shown earlier, about 56.5% of teams have a PGA > 0. Thus, since the \\nwins with PGA > 0 are greater than wins with PGA = 0, we can be led to assume that PGA has some sort of affect on wins. \\nHowever, these results are for when PGA = 1. Lets see the distributions of wins for a higher PGA, lets say 5. \\n'"
      ]
     },
     "execution_count": 22,
     "metadata": {},
     "output_type": "execute_result"
    }
   ],
   "source": [
    "import plotly.express as px\n",
    "\n",
    "data = {\n",
    "    \"Category\": [\"Wins with PGA = 0\", \"Wins with PGA > 0\"],\n",
    "    \"Values\": [\n",
    "        df[(df['result'] == 1) & (df['PGA'] == 0)].shape[0], \n",
    "        df[(df['result'] == 1) & (df['PGA'] != 0)].shape[0]\n",
    "    ]\n",
    "}\n",
    "\n",
    "fig = px.pie(\n",
    "    names=data[\"Category\"],  \n",
    "    values=data[\"Values\"],   \n",
    "    title=\"Distribution of Winners - When PGA present / missing\"\n",
    ")\n",
    "\n",
    "# Show plot\n",
    "fig.show()\n",
    "\n",
    "\n",
    "\"\"\"\n",
    "Note that most winning teams have at least one PGA. As shown earlier, about 56.5% of teams have a PGA > 0. Thus, since the \n",
    "wins with PGA > 0 are greater than wins with PGA = 0, we can be led to assume that PGA has some sort of affect on wins. \n",
    "However, these results are for when PGA = 1. Lets see the distributions of wins for a higher PGA, lets say 5. \n",
    "\"\"\""
   ]
  },
  {
   "cell_type": "code",
   "execution_count": 23,
   "metadata": {},
   "outputs": [
    {
     "data": {
      "text/plain": [
       "\"\\nThis visualization shows another 50/50 split. So, it looks like PGA doesnt have \\nan affect on your wins/losses, if half of the teams are beating their opponent, while having less PGA\\nThen why did our distribution of winners have so many teams with PGA > 0? \\n\\nWell, when considering the number of champions per lane, usually about 20-30, and we're considering the top 5 counters, then\\ntheres a 1/5 - 1/6 chance that a pick will counter an opponent. Additionally, it is very reasonable to say that a player \\nwill not want to play against their counter, leading to most players banning their counter. But lets see which variable affected PGA the most. \\n\""
      ]
     },
     "execution_count": 23,
     "metadata": {},
     "output_type": "execute_result"
    }
   ],
   "source": [
    "import pandas as pd\n",
    "\n",
    "df = df.sort_values(by=[\"gameid\", \"side\"])\n",
    "games = df.groupby(\"gameid\")\n",
    "\n",
    "win_higher_pga = 0\n",
    "lose_higher_pga = 0\n",
    "\n",
    "for gameid, group in games:\n",
    "    if len(group) != 2:\n",
    "        continue  # Skip if game data is incomplete\n",
    "\n",
    "    team1, team2 = group.iloc[0], group.iloc[1]\n",
    "\n",
    "    # Determine which team won\n",
    "    if team1[\"result\"] == 1:\n",
    "        winner, loser = team1, team2\n",
    "    else:\n",
    "        winner, loser = team2, team1\n",
    "\n",
    "    if winner[\"PGA\"] > loser[\"PGA\"]:\n",
    "        win_higher_pga += 1\n",
    "    elif loser[\"PGA\"] > winner[\"PGA\"]:\n",
    "        lose_higher_pga += 1\n",
    "\n",
    "labels = [\"Won with Higher PGA\", \"Lost with Higher PGA\"]\n",
    "values = [win_higher_pga, lose_higher_pga]\n",
    "\n",
    "fig = px.pie(\n",
    "    names=labels, \n",
    "    values=values, \n",
    "    title=\"Dist of game result for teams with Higher PGA than opponent\", \n",
    ")\n",
    "\n",
    "fig.write_html('bi2.html', include_plotlyjs='cdn')\n",
    "\n",
    "\"\"\"\n",
    "This visualization shows another 50/50 split. So, it looks like PGA doesnt have \n",
    "an affect on your wins/losses, if half of the teams are beating their opponent, while having less PGA\n",
    "Then why did our distribution of winners have so many teams with PGA > 0? \n",
    "\n",
    "Well, when considering the number of champions per lane, usually about 20-30, and we're considering the top 5 counters, then\n",
    "theres a 1/5 - 1/6 chance that a pick will counter an opponent. Additionally, it is very reasonable to say that a player \n",
    "will not want to play against their counter, leading to most players banning their counter. But lets see which variable affected PGA the most. \n",
    "\"\"\""
   ]
  },
  {
   "cell_type": "code",
   "execution_count": 24,
   "metadata": {},
   "outputs": [
    {
     "ename": "KeyError",
     "evalue": "'num_counters_picks'",
     "output_type": "error",
     "traceback": [
      "\u001b[1;31m---------------------------------------------------------------------------\u001b[0m",
      "\u001b[1;31mKeyError\u001b[0m                                  Traceback (most recent call last)",
      "File \u001b[1;32mc:\\Users\\Viki Shi\\.conda\\envs\\dsc80\\Lib\\site-packages\\pandas\\core\\indexes\\base.py:3805\u001b[0m, in \u001b[0;36mIndex.get_loc\u001b[1;34m(self, key)\u001b[0m\n\u001b[0;32m   3804\u001b[0m \u001b[38;5;28;01mtry\u001b[39;00m:\n\u001b[1;32m-> 3805\u001b[0m     \u001b[38;5;28;01mreturn\u001b[39;00m \u001b[38;5;28;43mself\u001b[39;49m\u001b[38;5;241;43m.\u001b[39;49m\u001b[43m_engine\u001b[49m\u001b[38;5;241;43m.\u001b[39;49m\u001b[43mget_loc\u001b[49m\u001b[43m(\u001b[49m\u001b[43mcasted_key\u001b[49m\u001b[43m)\u001b[49m\n\u001b[0;32m   3806\u001b[0m \u001b[38;5;28;01mexcept\u001b[39;00m \u001b[38;5;167;01mKeyError\u001b[39;00m \u001b[38;5;28;01mas\u001b[39;00m err:\n",
      "File \u001b[1;32mindex.pyx:167\u001b[0m, in \u001b[0;36mpandas._libs.index.IndexEngine.get_loc\u001b[1;34m()\u001b[0m\n",
      "File \u001b[1;32mindex.pyx:196\u001b[0m, in \u001b[0;36mpandas._libs.index.IndexEngine.get_loc\u001b[1;34m()\u001b[0m\n",
      "File \u001b[1;32mpandas\\\\_libs\\\\hashtable_class_helper.pxi:7081\u001b[0m, in \u001b[0;36mpandas._libs.hashtable.PyObjectHashTable.get_item\u001b[1;34m()\u001b[0m\n",
      "File \u001b[1;32mpandas\\\\_libs\\\\hashtable_class_helper.pxi:7089\u001b[0m, in \u001b[0;36mpandas._libs.hashtable.PyObjectHashTable.get_item\u001b[1;34m()\u001b[0m\n",
      "\u001b[1;31mKeyError\u001b[0m: 'num_counters_picks'",
      "\nThe above exception was the direct cause of the following exception:\n",
      "\u001b[1;31mKeyError\u001b[0m                                  Traceback (most recent call last)",
      "Cell \u001b[1;32mIn[24], line 6\u001b[0m\n\u001b[0;32m      1\u001b[0m \u001b[38;5;28;01mimport\u001b[39;00m\u001b[38;5;250m \u001b[39m\u001b[38;5;21;01mplotly\u001b[39;00m\u001b[38;5;21;01m.\u001b[39;00m\u001b[38;5;21;01mexpress\u001b[39;00m\u001b[38;5;250m \u001b[39m\u001b[38;5;28;01mas\u001b[39;00m\u001b[38;5;250m \u001b[39m\u001b[38;5;21;01mpx\u001b[39;00m\n\u001b[0;32m      3\u001b[0m data \u001b[38;5;241m=\u001b[39m {\n\u001b[0;32m      4\u001b[0m     \u001b[38;5;124m\"\u001b[39m\u001b[38;5;124mCategory\u001b[39m\u001b[38;5;124m\"\u001b[39m: [\u001b[38;5;124m\"\u001b[39m\u001b[38;5;124mPGA from counters\u001b[39m\u001b[38;5;124m\"\u001b[39m, \u001b[38;5;124m\"\u001b[39m\u001b[38;5;124mPGA from bans\u001b[39m\u001b[38;5;124m\"\u001b[39m],\n\u001b[0;32m      5\u001b[0m     \u001b[38;5;124m\"\u001b[39m\u001b[38;5;124mValues\u001b[39m\u001b[38;5;124m\"\u001b[39m: [\n\u001b[1;32m----> 6\u001b[0m         \u001b[43mdf\u001b[49m\u001b[43m[\u001b[49m\u001b[38;5;124;43m'\u001b[39;49m\u001b[38;5;124;43mnum_counters_picks\u001b[39;49m\u001b[38;5;124;43m'\u001b[39;49m\u001b[43m]\u001b[49m\u001b[38;5;241m.\u001b[39msum(), \n\u001b[0;32m      7\u001b[0m         df[\u001b[38;5;124m'\u001b[39m\u001b[38;5;124mnum_counters_banned\u001b[39m\u001b[38;5;124m'\u001b[39m]\u001b[38;5;241m.\u001b[39msum(), \n\u001b[0;32m      8\u001b[0m     ]\n\u001b[0;32m      9\u001b[0m }\n\u001b[0;32m     11\u001b[0m fig \u001b[38;5;241m=\u001b[39m px\u001b[38;5;241m.\u001b[39mpie(\n\u001b[0;32m     12\u001b[0m     names\u001b[38;5;241m=\u001b[39mdata[\u001b[38;5;124m\"\u001b[39m\u001b[38;5;124mCategory\u001b[39m\u001b[38;5;124m\"\u001b[39m],  \n\u001b[0;32m     13\u001b[0m     values\u001b[38;5;241m=\u001b[39mdata[\u001b[38;5;124m\"\u001b[39m\u001b[38;5;124mValues\u001b[39m\u001b[38;5;124m\"\u001b[39m],   \n\u001b[0;32m     14\u001b[0m     title\u001b[38;5;241m=\u001b[39m\u001b[38;5;124m\"\u001b[39m\u001b[38;5;124mDistribution of PGA factor\u001b[39m\u001b[38;5;124m\"\u001b[39m\n\u001b[0;32m     15\u001b[0m )\n\u001b[0;32m     17\u001b[0m \u001b[38;5;66;03m# Show plot\u001b[39;00m\n",
      "File \u001b[1;32mc:\\Users\\Viki Shi\\.conda\\envs\\dsc80\\Lib\\site-packages\\pandas\\core\\frame.py:4102\u001b[0m, in \u001b[0;36mDataFrame.__getitem__\u001b[1;34m(self, key)\u001b[0m\n\u001b[0;32m   4100\u001b[0m \u001b[38;5;28;01mif\u001b[39;00m \u001b[38;5;28mself\u001b[39m\u001b[38;5;241m.\u001b[39mcolumns\u001b[38;5;241m.\u001b[39mnlevels \u001b[38;5;241m>\u001b[39m \u001b[38;5;241m1\u001b[39m:\n\u001b[0;32m   4101\u001b[0m     \u001b[38;5;28;01mreturn\u001b[39;00m \u001b[38;5;28mself\u001b[39m\u001b[38;5;241m.\u001b[39m_getitem_multilevel(key)\n\u001b[1;32m-> 4102\u001b[0m indexer \u001b[38;5;241m=\u001b[39m \u001b[38;5;28;43mself\u001b[39;49m\u001b[38;5;241;43m.\u001b[39;49m\u001b[43mcolumns\u001b[49m\u001b[38;5;241;43m.\u001b[39;49m\u001b[43mget_loc\u001b[49m\u001b[43m(\u001b[49m\u001b[43mkey\u001b[49m\u001b[43m)\u001b[49m\n\u001b[0;32m   4103\u001b[0m \u001b[38;5;28;01mif\u001b[39;00m is_integer(indexer):\n\u001b[0;32m   4104\u001b[0m     indexer \u001b[38;5;241m=\u001b[39m [indexer]\n",
      "File \u001b[1;32mc:\\Users\\Viki Shi\\.conda\\envs\\dsc80\\Lib\\site-packages\\pandas\\core\\indexes\\base.py:3812\u001b[0m, in \u001b[0;36mIndex.get_loc\u001b[1;34m(self, key)\u001b[0m\n\u001b[0;32m   3807\u001b[0m     \u001b[38;5;28;01mif\u001b[39;00m \u001b[38;5;28misinstance\u001b[39m(casted_key, \u001b[38;5;28mslice\u001b[39m) \u001b[38;5;129;01mor\u001b[39;00m (\n\u001b[0;32m   3808\u001b[0m         \u001b[38;5;28misinstance\u001b[39m(casted_key, abc\u001b[38;5;241m.\u001b[39mIterable)\n\u001b[0;32m   3809\u001b[0m         \u001b[38;5;129;01mand\u001b[39;00m \u001b[38;5;28many\u001b[39m(\u001b[38;5;28misinstance\u001b[39m(x, \u001b[38;5;28mslice\u001b[39m) \u001b[38;5;28;01mfor\u001b[39;00m x \u001b[38;5;129;01min\u001b[39;00m casted_key)\n\u001b[0;32m   3810\u001b[0m     ):\n\u001b[0;32m   3811\u001b[0m         \u001b[38;5;28;01mraise\u001b[39;00m InvalidIndexError(key)\n\u001b[1;32m-> 3812\u001b[0m     \u001b[38;5;28;01mraise\u001b[39;00m \u001b[38;5;167;01mKeyError\u001b[39;00m(key) \u001b[38;5;28;01mfrom\u001b[39;00m\u001b[38;5;250m \u001b[39m\u001b[38;5;21;01merr\u001b[39;00m\n\u001b[0;32m   3813\u001b[0m \u001b[38;5;28;01mexcept\u001b[39;00m \u001b[38;5;167;01mTypeError\u001b[39;00m:\n\u001b[0;32m   3814\u001b[0m     \u001b[38;5;66;03m# If we have a listlike key, _check_indexing_error will raise\u001b[39;00m\n\u001b[0;32m   3815\u001b[0m     \u001b[38;5;66;03m#  InvalidIndexError. Otherwise we fall through and re-raise\u001b[39;00m\n\u001b[0;32m   3816\u001b[0m     \u001b[38;5;66;03m#  the TypeError.\u001b[39;00m\n\u001b[0;32m   3817\u001b[0m     \u001b[38;5;28mself\u001b[39m\u001b[38;5;241m.\u001b[39m_check_indexing_error(key)\n",
      "\u001b[1;31mKeyError\u001b[0m: 'num_counters_picks'"
     ]
    }
   ],
   "source": [
    "import plotly.express as px\n",
    "\n",
    "data = {\n",
    "    \"Category\": [\"PGA from counters\", \"PGA from bans\"],\n",
    "    \"Values\": [\n",
    "        df['num_counters_picks'].sum(), \n",
    "        df['num_counters_banned'].sum(), \n",
    "    ]\n",
    "}\n",
    "\n",
    "fig = px.pie(\n",
    "    names=data[\"Category\"],  \n",
    "    values=data[\"Values\"],   \n",
    "    title=\"Distribution of PGA factor\"\n",
    ")\n",
    "\n",
    "# Show plot\n",
    "fig.show()\n"
   ]
  },
  {
   "cell_type": "code",
   "execution_count": null,
   "metadata": {},
   "outputs": [
    {
     "data": {
      "application/vnd.plotly.v1+json": {
       "config": {
        "plotlyServerURL": "https://plot.ly"
       },
       "data": [
        {
         "domain": {
          "x": [
           0,
           1
          ],
          "y": [
           0,
           1
          ]
         },
         "hovertemplate": "label=%{label}<br>value=%{value}<extra></extra>",
         "labels": [
          "Wins on Red",
          "Wins on Blue"
         ],
         "legendgroup": "",
         "name": "",
         "showlegend": true,
         "type": "pie",
         "values": [
          20477,
          22967
         ]
        }
       ],
       "layout": {
        "legend": {
         "tracegroupgap": 0
        },
        "template": {
         "data": {
          "bar": [
           {
            "error_x": {
             "color": "#2a3f5f"
            },
            "error_y": {
             "color": "#2a3f5f"
            },
            "marker": {
             "line": {
              "color": "#E5ECF6",
              "width": 0.5
             },
             "pattern": {
              "fillmode": "overlay",
              "size": 10,
              "solidity": 0.2
             }
            },
            "type": "bar"
           }
          ],
          "barpolar": [
           {
            "marker": {
             "line": {
              "color": "#E5ECF6",
              "width": 0.5
             },
             "pattern": {
              "fillmode": "overlay",
              "size": 10,
              "solidity": 0.2
             }
            },
            "type": "barpolar"
           }
          ],
          "carpet": [
           {
            "aaxis": {
             "endlinecolor": "#2a3f5f",
             "gridcolor": "white",
             "linecolor": "white",
             "minorgridcolor": "white",
             "startlinecolor": "#2a3f5f"
            },
            "baxis": {
             "endlinecolor": "#2a3f5f",
             "gridcolor": "white",
             "linecolor": "white",
             "minorgridcolor": "white",
             "startlinecolor": "#2a3f5f"
            },
            "type": "carpet"
           }
          ],
          "choropleth": [
           {
            "colorbar": {
             "outlinewidth": 0,
             "ticks": ""
            },
            "type": "choropleth"
           }
          ],
          "contour": [
           {
            "colorbar": {
             "outlinewidth": 0,
             "ticks": ""
            },
            "colorscale": [
             [
              0,
              "#0d0887"
             ],
             [
              0.1111111111111111,
              "#46039f"
             ],
             [
              0.2222222222222222,
              "#7201a8"
             ],
             [
              0.3333333333333333,
              "#9c179e"
             ],
             [
              0.4444444444444444,
              "#bd3786"
             ],
             [
              0.5555555555555556,
              "#d8576b"
             ],
             [
              0.6666666666666666,
              "#ed7953"
             ],
             [
              0.7777777777777778,
              "#fb9f3a"
             ],
             [
              0.8888888888888888,
              "#fdca26"
             ],
             [
              1,
              "#f0f921"
             ]
            ],
            "type": "contour"
           }
          ],
          "contourcarpet": [
           {
            "colorbar": {
             "outlinewidth": 0,
             "ticks": ""
            },
            "type": "contourcarpet"
           }
          ],
          "heatmap": [
           {
            "colorbar": {
             "outlinewidth": 0,
             "ticks": ""
            },
            "colorscale": [
             [
              0,
              "#0d0887"
             ],
             [
              0.1111111111111111,
              "#46039f"
             ],
             [
              0.2222222222222222,
              "#7201a8"
             ],
             [
              0.3333333333333333,
              "#9c179e"
             ],
             [
              0.4444444444444444,
              "#bd3786"
             ],
             [
              0.5555555555555556,
              "#d8576b"
             ],
             [
              0.6666666666666666,
              "#ed7953"
             ],
             [
              0.7777777777777778,
              "#fb9f3a"
             ],
             [
              0.8888888888888888,
              "#fdca26"
             ],
             [
              1,
              "#f0f921"
             ]
            ],
            "type": "heatmap"
           }
          ],
          "heatmapgl": [
           {
            "colorbar": {
             "outlinewidth": 0,
             "ticks": ""
            },
            "colorscale": [
             [
              0,
              "#0d0887"
             ],
             [
              0.1111111111111111,
              "#46039f"
             ],
             [
              0.2222222222222222,
              "#7201a8"
             ],
             [
              0.3333333333333333,
              "#9c179e"
             ],
             [
              0.4444444444444444,
              "#bd3786"
             ],
             [
              0.5555555555555556,
              "#d8576b"
             ],
             [
              0.6666666666666666,
              "#ed7953"
             ],
             [
              0.7777777777777778,
              "#fb9f3a"
             ],
             [
              0.8888888888888888,
              "#fdca26"
             ],
             [
              1,
              "#f0f921"
             ]
            ],
            "type": "heatmapgl"
           }
          ],
          "histogram": [
           {
            "marker": {
             "pattern": {
              "fillmode": "overlay",
              "size": 10,
              "solidity": 0.2
             }
            },
            "type": "histogram"
           }
          ],
          "histogram2d": [
           {
            "colorbar": {
             "outlinewidth": 0,
             "ticks": ""
            },
            "colorscale": [
             [
              0,
              "#0d0887"
             ],
             [
              0.1111111111111111,
              "#46039f"
             ],
             [
              0.2222222222222222,
              "#7201a8"
             ],
             [
              0.3333333333333333,
              "#9c179e"
             ],
             [
              0.4444444444444444,
              "#bd3786"
             ],
             [
              0.5555555555555556,
              "#d8576b"
             ],
             [
              0.6666666666666666,
              "#ed7953"
             ],
             [
              0.7777777777777778,
              "#fb9f3a"
             ],
             [
              0.8888888888888888,
              "#fdca26"
             ],
             [
              1,
              "#f0f921"
             ]
            ],
            "type": "histogram2d"
           }
          ],
          "histogram2dcontour": [
           {
            "colorbar": {
             "outlinewidth": 0,
             "ticks": ""
            },
            "colorscale": [
             [
              0,
              "#0d0887"
             ],
             [
              0.1111111111111111,
              "#46039f"
             ],
             [
              0.2222222222222222,
              "#7201a8"
             ],
             [
              0.3333333333333333,
              "#9c179e"
             ],
             [
              0.4444444444444444,
              "#bd3786"
             ],
             [
              0.5555555555555556,
              "#d8576b"
             ],
             [
              0.6666666666666666,
              "#ed7953"
             ],
             [
              0.7777777777777778,
              "#fb9f3a"
             ],
             [
              0.8888888888888888,
              "#fdca26"
             ],
             [
              1,
              "#f0f921"
             ]
            ],
            "type": "histogram2dcontour"
           }
          ],
          "mesh3d": [
           {
            "colorbar": {
             "outlinewidth": 0,
             "ticks": ""
            },
            "type": "mesh3d"
           }
          ],
          "parcoords": [
           {
            "line": {
             "colorbar": {
              "outlinewidth": 0,
              "ticks": ""
             }
            },
            "type": "parcoords"
           }
          ],
          "pie": [
           {
            "automargin": true,
            "type": "pie"
           }
          ],
          "scatter": [
           {
            "fillpattern": {
             "fillmode": "overlay",
             "size": 10,
             "solidity": 0.2
            },
            "type": "scatter"
           }
          ],
          "scatter3d": [
           {
            "line": {
             "colorbar": {
              "outlinewidth": 0,
              "ticks": ""
             }
            },
            "marker": {
             "colorbar": {
              "outlinewidth": 0,
              "ticks": ""
             }
            },
            "type": "scatter3d"
           }
          ],
          "scattercarpet": [
           {
            "marker": {
             "colorbar": {
              "outlinewidth": 0,
              "ticks": ""
             }
            },
            "type": "scattercarpet"
           }
          ],
          "scattergeo": [
           {
            "marker": {
             "colorbar": {
              "outlinewidth": 0,
              "ticks": ""
             }
            },
            "type": "scattergeo"
           }
          ],
          "scattergl": [
           {
            "marker": {
             "colorbar": {
              "outlinewidth": 0,
              "ticks": ""
             }
            },
            "type": "scattergl"
           }
          ],
          "scattermapbox": [
           {
            "marker": {
             "colorbar": {
              "outlinewidth": 0,
              "ticks": ""
             }
            },
            "type": "scattermapbox"
           }
          ],
          "scatterpolar": [
           {
            "marker": {
             "colorbar": {
              "outlinewidth": 0,
              "ticks": ""
             }
            },
            "type": "scatterpolar"
           }
          ],
          "scatterpolargl": [
           {
            "marker": {
             "colorbar": {
              "outlinewidth": 0,
              "ticks": ""
             }
            },
            "type": "scatterpolargl"
           }
          ],
          "scatterternary": [
           {
            "marker": {
             "colorbar": {
              "outlinewidth": 0,
              "ticks": ""
             }
            },
            "type": "scatterternary"
           }
          ],
          "surface": [
           {
            "colorbar": {
             "outlinewidth": 0,
             "ticks": ""
            },
            "colorscale": [
             [
              0,
              "#0d0887"
             ],
             [
              0.1111111111111111,
              "#46039f"
             ],
             [
              0.2222222222222222,
              "#7201a8"
             ],
             [
              0.3333333333333333,
              "#9c179e"
             ],
             [
              0.4444444444444444,
              "#bd3786"
             ],
             [
              0.5555555555555556,
              "#d8576b"
             ],
             [
              0.6666666666666666,
              "#ed7953"
             ],
             [
              0.7777777777777778,
              "#fb9f3a"
             ],
             [
              0.8888888888888888,
              "#fdca26"
             ],
             [
              1,
              "#f0f921"
             ]
            ],
            "type": "surface"
           }
          ],
          "table": [
           {
            "cells": {
             "fill": {
              "color": "#EBF0F8"
             },
             "line": {
              "color": "white"
             }
            },
            "header": {
             "fill": {
              "color": "#C8D4E3"
             },
             "line": {
              "color": "white"
             }
            },
            "type": "table"
           }
          ]
         },
         "layout": {
          "annotationdefaults": {
           "arrowcolor": "#2a3f5f",
           "arrowhead": 0,
           "arrowwidth": 1
          },
          "autotypenumbers": "strict",
          "coloraxis": {
           "colorbar": {
            "outlinewidth": 0,
            "ticks": ""
           }
          },
          "colorscale": {
           "diverging": [
            [
             0,
             "#8e0152"
            ],
            [
             0.1,
             "#c51b7d"
            ],
            [
             0.2,
             "#de77ae"
            ],
            [
             0.3,
             "#f1b6da"
            ],
            [
             0.4,
             "#fde0ef"
            ],
            [
             0.5,
             "#f7f7f7"
            ],
            [
             0.6,
             "#e6f5d0"
            ],
            [
             0.7,
             "#b8e186"
            ],
            [
             0.8,
             "#7fbc41"
            ],
            [
             0.9,
             "#4d9221"
            ],
            [
             1,
             "#276419"
            ]
           ],
           "sequential": [
            [
             0,
             "#0d0887"
            ],
            [
             0.1111111111111111,
             "#46039f"
            ],
            [
             0.2222222222222222,
             "#7201a8"
            ],
            [
             0.3333333333333333,
             "#9c179e"
            ],
            [
             0.4444444444444444,
             "#bd3786"
            ],
            [
             0.5555555555555556,
             "#d8576b"
            ],
            [
             0.6666666666666666,
             "#ed7953"
            ],
            [
             0.7777777777777778,
             "#fb9f3a"
            ],
            [
             0.8888888888888888,
             "#fdca26"
            ],
            [
             1,
             "#f0f921"
            ]
           ],
           "sequentialminus": [
            [
             0,
             "#0d0887"
            ],
            [
             0.1111111111111111,
             "#46039f"
            ],
            [
             0.2222222222222222,
             "#7201a8"
            ],
            [
             0.3333333333333333,
             "#9c179e"
            ],
            [
             0.4444444444444444,
             "#bd3786"
            ],
            [
             0.5555555555555556,
             "#d8576b"
            ],
            [
             0.6666666666666666,
             "#ed7953"
            ],
            [
             0.7777777777777778,
             "#fb9f3a"
            ],
            [
             0.8888888888888888,
             "#fdca26"
            ],
            [
             1,
             "#f0f921"
            ]
           ]
          },
          "colorway": [
           "#636efa",
           "#EF553B",
           "#00cc96",
           "#ab63fa",
           "#FFA15A",
           "#19d3f3",
           "#FF6692",
           "#B6E880",
           "#FF97FF",
           "#FECB52"
          ],
          "font": {
           "color": "#2a3f5f"
          },
          "geo": {
           "bgcolor": "white",
           "lakecolor": "white",
           "landcolor": "#E5ECF6",
           "showlakes": true,
           "showland": true,
           "subunitcolor": "white"
          },
          "hoverlabel": {
           "align": "left"
          },
          "hovermode": "closest",
          "mapbox": {
           "style": "light"
          },
          "paper_bgcolor": "white",
          "plot_bgcolor": "#E5ECF6",
          "polar": {
           "angularaxis": {
            "gridcolor": "white",
            "linecolor": "white",
            "ticks": ""
           },
           "bgcolor": "#E5ECF6",
           "radialaxis": {
            "gridcolor": "white",
            "linecolor": "white",
            "ticks": ""
           }
          },
          "scene": {
           "xaxis": {
            "backgroundcolor": "#E5ECF6",
            "gridcolor": "white",
            "gridwidth": 2,
            "linecolor": "white",
            "showbackground": true,
            "ticks": "",
            "zerolinecolor": "white"
           },
           "yaxis": {
            "backgroundcolor": "#E5ECF6",
            "gridcolor": "white",
            "gridwidth": 2,
            "linecolor": "white",
            "showbackground": true,
            "ticks": "",
            "zerolinecolor": "white"
           },
           "zaxis": {
            "backgroundcolor": "#E5ECF6",
            "gridcolor": "white",
            "gridwidth": 2,
            "linecolor": "white",
            "showbackground": true,
            "ticks": "",
            "zerolinecolor": "white"
           }
          },
          "shapedefaults": {
           "line": {
            "color": "#2a3f5f"
           }
          },
          "ternary": {
           "aaxis": {
            "gridcolor": "white",
            "linecolor": "white",
            "ticks": ""
           },
           "baxis": {
            "gridcolor": "white",
            "linecolor": "white",
            "ticks": ""
           },
           "bgcolor": "#E5ECF6",
           "caxis": {
            "gridcolor": "white",
            "linecolor": "white",
            "ticks": ""
           }
          },
          "title": {
           "x": 0.05
          },
          "xaxis": {
           "automargin": true,
           "gridcolor": "white",
           "linecolor": "white",
           "ticks": "",
           "title": {
            "standoff": 15
           },
           "zerolinecolor": "white",
           "zerolinewidth": 2
          },
          "yaxis": {
           "automargin": true,
           "gridcolor": "white",
           "linecolor": "white",
           "ticks": "",
           "title": {
            "standoff": 15
           },
           "zerolinecolor": "white",
           "zerolinewidth": 2
          }
         }
        },
        "title": {
         "text": "Distribution of Results for Side"
        }
       }
      }
     },
     "metadata": {},
     "output_type": "display_data"
    }
   ],
   "source": [
    "import plotly.express as px\n",
    "\n",
    "data = {\n",
    "    \"Category\": [\"Wins on Red\", \"Wins on Blue\"],\n",
    "    \"Values\": [\n",
    "        df[(df['result'] == 1) & (df['side'] == \"Red\")].shape[0], \n",
    "        df[(df['result'] == 1) & (df['side'] == \"Blue\")].shape[0], \n",
    "    ]\n",
    "}\n",
    "\n",
    "fig = px.pie(\n",
    "    names=data[\"Category\"],  \n",
    "    values=data[\"Values\"],   \n",
    "    title=\"Distribution of Results for Side\"\n",
    ")\n",
    "\n",
    "# Show plot\n",
    "fig.show()"
   ]
  },
  {
   "cell_type": "code",
   "execution_count": null,
   "metadata": {},
   "outputs": [
    {
     "data": {
      "text/html": [
       "<div>\n",
       "<style scoped>\n",
       "    .dataframe tbody tr th:only-of-type {\n",
       "        vertical-align: middle;\n",
       "    }\n",
       "\n",
       "    .dataframe tbody tr th {\n",
       "        vertical-align: top;\n",
       "    }\n",
       "\n",
       "    .dataframe thead th {\n",
       "        text-align: right;\n",
       "    }\n",
       "</style>\n",
       "<table border=\"1\" class=\"dataframe\">\n",
       "  <thead>\n",
       "    <tr style=\"text-align: right;\">\n",
       "      <th></th>\n",
       "      <th>Unnamed: 0</th>\n",
       "      <th>year</th>\n",
       "      <th>gameid</th>\n",
       "      <th>teamname</th>\n",
       "      <th>side</th>\n",
       "      <th>ban1</th>\n",
       "      <th>ban2</th>\n",
       "      <th>ban3</th>\n",
       "      <th>ban4</th>\n",
       "      <th>ban5</th>\n",
       "      <th>...</th>\n",
       "      <th>pick2</th>\n",
       "      <th>pick3</th>\n",
       "      <th>pick4</th>\n",
       "      <th>pick5</th>\n",
       "      <th>result</th>\n",
       "      <th>num_counters</th>\n",
       "      <th>num_counters_banned</th>\n",
       "      <th>PGA</th>\n",
       "      <th>mean_wr</th>\n",
       "      <th>higher_PGA</th>\n",
       "    </tr>\n",
       "  </thead>\n",
       "  <tbody>\n",
       "    <tr>\n",
       "      <th>70464</th>\n",
       "      <td>97064</td>\n",
       "      <td>2023</td>\n",
       "      <td>10660-10660_game_1</td>\n",
       "      <td>LNG Esports</td>\n",
       "      <td>Blue</td>\n",
       "      <td>Akali</td>\n",
       "      <td>Nocturne</td>\n",
       "      <td>K'Sante</td>\n",
       "      <td>Lee Sin</td>\n",
       "      <td>Wukong</td>\n",
       "      <td>...</td>\n",
       "      <td>Maokai</td>\n",
       "      <td>Orianna</td>\n",
       "      <td>Kalista</td>\n",
       "      <td>Senna</td>\n",
       "      <td>0</td>\n",
       "      <td>0</td>\n",
       "      <td>1</td>\n",
       "      <td>1</td>\n",
       "      <td>0.511094</td>\n",
       "      <td>0</td>\n",
       "    </tr>\n",
       "    <tr>\n",
       "      <th>70465</th>\n",
       "      <td>97065</td>\n",
       "      <td>2023</td>\n",
       "      <td>10660-10660_game_1</td>\n",
       "      <td>Rare Atom</td>\n",
       "      <td>Red</td>\n",
       "      <td>Poppy</td>\n",
       "      <td>Ashe</td>\n",
       "      <td>Neeko</td>\n",
       "      <td>Vi</td>\n",
       "      <td>Jarvan IV</td>\n",
       "      <td>...</td>\n",
       "      <td>Rell</td>\n",
       "      <td>LeBlanc</td>\n",
       "      <td>Varus</td>\n",
       "      <td>Renata Glasc</td>\n",
       "      <td>1</td>\n",
       "      <td>3</td>\n",
       "      <td>1</td>\n",
       "      <td>4</td>\n",
       "      <td>0.514139</td>\n",
       "      <td>1</td>\n",
       "    </tr>\n",
       "    <tr>\n",
       "      <th>70466</th>\n",
       "      <td>97066</td>\n",
       "      <td>2023</td>\n",
       "      <td>10660-10660_game_2</td>\n",
       "      <td>LNG Esports</td>\n",
       "      <td>Blue</td>\n",
       "      <td>Nocturne</td>\n",
       "      <td>Udyr</td>\n",
       "      <td>Renata Glasc</td>\n",
       "      <td>Nautilus</td>\n",
       "      <td>Lee Sin</td>\n",
       "      <td>...</td>\n",
       "      <td>Bel'Veth</td>\n",
       "      <td>Neeko</td>\n",
       "      <td>Senna</td>\n",
       "      <td>Tahm Kench</td>\n",
       "      <td>0</td>\n",
       "      <td>1</td>\n",
       "      <td>3</td>\n",
       "      <td>4</td>\n",
       "      <td>0.489709</td>\n",
       "      <td>1</td>\n",
       "    </tr>\n",
       "    <tr>\n",
       "      <th>70467</th>\n",
       "      <td>97067</td>\n",
       "      <td>2023</td>\n",
       "      <td>10660-10660_game_2</td>\n",
       "      <td>Rare Atom</td>\n",
       "      <td>Red</td>\n",
       "      <td>Poppy</td>\n",
       "      <td>Ashe</td>\n",
       "      <td>Rumble</td>\n",
       "      <td>Tristana</td>\n",
       "      <td>Lucian</td>\n",
       "      <td>...</td>\n",
       "      <td>Jarvan IV</td>\n",
       "      <td>LeBlanc</td>\n",
       "      <td>Kalista</td>\n",
       "      <td>Rell</td>\n",
       "      <td>1</td>\n",
       "      <td>1</td>\n",
       "      <td>2</td>\n",
       "      <td>3</td>\n",
       "      <td>0.510223</td>\n",
       "      <td>0</td>\n",
       "    </tr>\n",
       "    <tr>\n",
       "      <th>70468</th>\n",
       "      <td>97068</td>\n",
       "      <td>2023</td>\n",
       "      <td>10660-10660_game_3</td>\n",
       "      <td>LNG Esports</td>\n",
       "      <td>Blue</td>\n",
       "      <td>Rell</td>\n",
       "      <td>Nocturne</td>\n",
       "      <td>Tristana</td>\n",
       "      <td>Jarvan IV</td>\n",
       "      <td>Rumble</td>\n",
       "      <td>...</td>\n",
       "      <td>Bel'Veth</td>\n",
       "      <td>Neeko</td>\n",
       "      <td>Caitlyn</td>\n",
       "      <td>Lux</td>\n",
       "      <td>1</td>\n",
       "      <td>1</td>\n",
       "      <td>1</td>\n",
       "      <td>2</td>\n",
       "      <td>0.497444</td>\n",
       "      <td>1</td>\n",
       "    </tr>\n",
       "    <tr>\n",
       "      <th>...</th>\n",
       "      <td>...</td>\n",
       "      <td>...</td>\n",
       "      <td>...</td>\n",
       "      <td>...</td>\n",
       "      <td>...</td>\n",
       "      <td>...</td>\n",
       "      <td>...</td>\n",
       "      <td>...</td>\n",
       "      <td>...</td>\n",
       "      <td>...</td>\n",
       "      <td>...</td>\n",
       "      <td>...</td>\n",
       "      <td>...</td>\n",
       "      <td>...</td>\n",
       "      <td>...</td>\n",
       "      <td>...</td>\n",
       "      <td>...</td>\n",
       "      <td>...</td>\n",
       "      <td>...</td>\n",
       "      <td>...</td>\n",
       "      <td>...</td>\n",
       "    </tr>\n",
       "    <tr>\n",
       "      <th>7997</th>\n",
       "      <td>11397</td>\n",
       "      <td>2017</td>\n",
       "      <td>WMC2TMNT1/320030</td>\n",
       "      <td>Team Cloud Drake</td>\n",
       "      <td>Red</td>\n",
       "      <td>Ornn</td>\n",
       "      <td>Kalista</td>\n",
       "      <td>Tristana</td>\n",
       "      <td>Maokai</td>\n",
       "      <td>Shen</td>\n",
       "      <td>...</td>\n",
       "      <td>Sejuani</td>\n",
       "      <td>Ryze</td>\n",
       "      <td>Caitlyn</td>\n",
       "      <td>Braum</td>\n",
       "      <td>0</td>\n",
       "      <td>0</td>\n",
       "      <td>1</td>\n",
       "      <td>1</td>\n",
       "      <td>0.481034</td>\n",
       "      <td>0</td>\n",
       "    </tr>\n",
       "    <tr>\n",
       "      <th>7998</th>\n",
       "      <td>11398</td>\n",
       "      <td>2017</td>\n",
       "      <td>WMC2TMNT1/320038</td>\n",
       "      <td>Team Cloud Drake</td>\n",
       "      <td>Blue</td>\n",
       "      <td>Azir</td>\n",
       "      <td>Alistar</td>\n",
       "      <td>Tristana</td>\n",
       "      <td>Shen</td>\n",
       "      <td>Gnar</td>\n",
       "      <td>...</td>\n",
       "      <td>Jarvan IV</td>\n",
       "      <td>Syndra</td>\n",
       "      <td>Varus</td>\n",
       "      <td>Braum</td>\n",
       "      <td>0</td>\n",
       "      <td>2</td>\n",
       "      <td>0</td>\n",
       "      <td>2</td>\n",
       "      <td>0.497706</td>\n",
       "      <td>1</td>\n",
       "    </tr>\n",
       "    <tr>\n",
       "      <th>7999</th>\n",
       "      <td>11399</td>\n",
       "      <td>2017</td>\n",
       "      <td>WMC2TMNT1/320038</td>\n",
       "      <td>Team Mountain Drake</td>\n",
       "      <td>Red</td>\n",
       "      <td>Taric</td>\n",
       "      <td>Kalista</td>\n",
       "      <td>Ornn</td>\n",
       "      <td>Malzahar</td>\n",
       "      <td>Karma</td>\n",
       "      <td>...</td>\n",
       "      <td>Sejuani</td>\n",
       "      <td>Orianna</td>\n",
       "      <td>Xayah</td>\n",
       "      <td>Rakan</td>\n",
       "      <td>1</td>\n",
       "      <td>0</td>\n",
       "      <td>1</td>\n",
       "      <td>1</td>\n",
       "      <td>0.502609</td>\n",
       "      <td>0</td>\n",
       "    </tr>\n",
       "    <tr>\n",
       "      <th>8000</th>\n",
       "      <td>11402</td>\n",
       "      <td>2017</td>\n",
       "      <td>WMC2TMNT1/320050</td>\n",
       "      <td>Team Infernal Drake</td>\n",
       "      <td>Blue</td>\n",
       "      <td>Caitlyn</td>\n",
       "      <td>Jayce</td>\n",
       "      <td>Tristana</td>\n",
       "      <td>Twitch</td>\n",
       "      <td>Jarvan IV</td>\n",
       "      <td>...</td>\n",
       "      <td>Sejuani</td>\n",
       "      <td>Viktor</td>\n",
       "      <td>Xayah</td>\n",
       "      <td>Braum</td>\n",
       "      <td>0</td>\n",
       "      <td>0</td>\n",
       "      <td>0</td>\n",
       "      <td>0</td>\n",
       "      <td>0.487662</td>\n",
       "      <td>0</td>\n",
       "    </tr>\n",
       "    <tr>\n",
       "      <th>8001</th>\n",
       "      <td>11403</td>\n",
       "      <td>2017</td>\n",
       "      <td>WMC2TMNT1/320050</td>\n",
       "      <td>Team Ocean Drake</td>\n",
       "      <td>Red</td>\n",
       "      <td>Camille</td>\n",
       "      <td>Kalista</td>\n",
       "      <td>Ornn</td>\n",
       "      <td>Orianna</td>\n",
       "      <td>Syndra</td>\n",
       "      <td>...</td>\n",
       "      <td>Gragas</td>\n",
       "      <td>Azir</td>\n",
       "      <td>Varus</td>\n",
       "      <td>Rakan</td>\n",
       "      <td>1</td>\n",
       "      <td>1</td>\n",
       "      <td>1</td>\n",
       "      <td>2</td>\n",
       "      <td>0.500245</td>\n",
       "      <td>1</td>\n",
       "    </tr>\n",
       "  </tbody>\n",
       "</table>\n",
       "<p>86898 rows × 21 columns</p>\n",
       "</div>"
      ],
      "text/plain": [
       "       Unnamed: 0  year              gameid             teamname  side  \\\n",
       "70464       97064  2023  10660-10660_game_1          LNG Esports  Blue   \n",
       "70465       97065  2023  10660-10660_game_1            Rare Atom   Red   \n",
       "70466       97066  2023  10660-10660_game_2          LNG Esports  Blue   \n",
       "70467       97067  2023  10660-10660_game_2            Rare Atom   Red   \n",
       "70468       97068  2023  10660-10660_game_3          LNG Esports  Blue   \n",
       "...           ...   ...                 ...                  ...   ...   \n",
       "7997        11397  2017    WMC2TMNT1/320030     Team Cloud Drake   Red   \n",
       "7998        11398  2017    WMC2TMNT1/320038     Team Cloud Drake  Blue   \n",
       "7999        11399  2017    WMC2TMNT1/320038  Team Mountain Drake   Red   \n",
       "8000        11402  2017    WMC2TMNT1/320050  Team Infernal Drake  Blue   \n",
       "8001        11403  2017    WMC2TMNT1/320050     Team Ocean Drake   Red   \n",
       "\n",
       "           ban1      ban2          ban3       ban4       ban5  ...      pick2  \\\n",
       "70464     Akali  Nocturne       K'Sante    Lee Sin     Wukong  ...     Maokai   \n",
       "70465     Poppy      Ashe         Neeko         Vi  Jarvan IV  ...       Rell   \n",
       "70466  Nocturne      Udyr  Renata Glasc   Nautilus    Lee Sin  ...   Bel'Veth   \n",
       "70467     Poppy      Ashe        Rumble   Tristana     Lucian  ...  Jarvan IV   \n",
       "70468      Rell  Nocturne      Tristana  Jarvan IV     Rumble  ...   Bel'Veth   \n",
       "...         ...       ...           ...        ...        ...  ...        ...   \n",
       "7997       Ornn   Kalista      Tristana     Maokai       Shen  ...    Sejuani   \n",
       "7998       Azir   Alistar      Tristana       Shen       Gnar  ...  Jarvan IV   \n",
       "7999      Taric   Kalista          Ornn   Malzahar      Karma  ...    Sejuani   \n",
       "8000    Caitlyn     Jayce      Tristana     Twitch  Jarvan IV  ...    Sejuani   \n",
       "8001    Camille   Kalista          Ornn    Orianna     Syndra  ...     Gragas   \n",
       "\n",
       "         pick3    pick4         pick5 result  num_counters  \\\n",
       "70464  Orianna  Kalista         Senna      0             0   \n",
       "70465  LeBlanc    Varus  Renata Glasc      1             3   \n",
       "70466    Neeko    Senna    Tahm Kench      0             1   \n",
       "70467  LeBlanc  Kalista          Rell      1             1   \n",
       "70468    Neeko  Caitlyn           Lux      1             1   \n",
       "...        ...      ...           ...    ...           ...   \n",
       "7997      Ryze  Caitlyn         Braum      0             0   \n",
       "7998    Syndra    Varus         Braum      0             2   \n",
       "7999   Orianna    Xayah         Rakan      1             0   \n",
       "8000    Viktor    Xayah         Braum      0             0   \n",
       "8001      Azir    Varus         Rakan      1             1   \n",
       "\n",
       "       num_counters_banned  PGA   mean_wr  higher_PGA  \n",
       "70464                    1    1  0.511094           0  \n",
       "70465                    1    4  0.514139           1  \n",
       "70466                    3    4  0.489709           1  \n",
       "70467                    2    3  0.510223           0  \n",
       "70468                    1    2  0.497444           1  \n",
       "...                    ...  ...       ...         ...  \n",
       "7997                     1    1  0.481034           0  \n",
       "7998                     0    2  0.497706           1  \n",
       "7999                     1    1  0.502609           0  \n",
       "8000                     0    0  0.487662           0  \n",
       "8001                     1    2  0.500245           1  \n",
       "\n",
       "[86898 rows x 21 columns]"
      ]
     },
     "execution_count": 12,
     "metadata": {},
     "output_type": "execute_result"
    }
   ],
   "source": [
    "#bar chart, each bar is a PGA (0-10)\n",
    "#each pga has two bars, # wins # losses \n",
    "df"
   ]
  },
  {
   "cell_type": "code",
   "execution_count": null,
   "metadata": {},
   "outputs": [],
   "source": [
    "import plotly.graph_objects as go\n",
    "\n",
    "pga_range = list(range(11))\n",
    "\n",
    "win_PGAs = df[df['result'] == 1]['PGA'].value_counts()\n",
    "loss_PGAs = df[df['result'] == 0]['PGA'].value_counts()\n",
    "\n",
    "fig = go.Figure()\n",
    "\n",
    "fig.add_trace(go.Bar(\n",
    "    x=pga_range,\n",
    "    y=win_PGAs,\n",
    "    name='Wins',\n",
    "    marker_color='blue'\n",
    "))\n",
    "\n",
    "fig.add_trace(go.Bar(\n",
    "    x=pga_range,\n",
    "    y=loss_PGAs,\n",
    "    name='Losses',\n",
    "    marker_color='red'\n",
    "))\n",
    "\n",
    "fig.update_layout(\n",
    "    title='Wins and Losses by PGA',\n",
    "    xaxis=dict(\n",
    "        title='PGA',\n",
    "        tickmode='array',\n",
    "        tickvals=pga_range  \n",
    "    ),\n",
    "    yaxis_title='Count',\n",
    "    barmode='group'  \n",
    ")\n",
    "\n",
    "fig.write_html('bi.html', include_plotlyjs='cdn')\n"
   ]
  },
  {
   "cell_type": "code",
   "execution_count": null,
   "metadata": {},
   "outputs": [],
   "source": []
  },
  {
   "cell_type": "code",
   "execution_count": null,
   "metadata": {},
   "outputs": [],
   "source": []
  },
  {
   "cell_type": "code",
   "execution_count": null,
   "metadata": {},
   "outputs": [],
   "source": []
  },
  {
   "cell_type": "code",
   "execution_count": null,
   "metadata": {},
   "outputs": [],
   "source": []
  },
  {
   "cell_type": "code",
   "execution_count": null,
   "metadata": {},
   "outputs": [],
   "source": []
  },
  {
   "cell_type": "code",
   "execution_count": null,
   "metadata": {},
   "outputs": [],
   "source": []
  }
 ],
 "metadata": {
  "kernelspec": {
   "display_name": "dsc80",
   "language": "python",
   "name": "python3"
  },
  "language_info": {
   "codemirror_mode": {
    "name": "ipython",
    "version": 3
   },
   "file_extension": ".py",
   "mimetype": "text/x-python",
   "name": "python",
   "nbconvert_exporter": "python",
   "pygments_lexer": "ipython3",
   "version": "3.12.8"
  }
 },
 "nbformat": 4,
 "nbformat_minor": 2
}
