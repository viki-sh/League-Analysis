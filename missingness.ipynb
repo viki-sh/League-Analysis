{
 "cells": [
  {
   "cell_type": "markdown",
   "metadata": {},
   "source": []
  },
  {
   "cell_type": "code",
   "execution_count": 142,
   "metadata": {},
   "outputs": [],
   "source": [
    "#missingness"
   ]
  },
  {
   "cell_type": "code",
   "execution_count": 143,
   "metadata": {},
   "outputs": [],
   "source": [
    "import pandas as pd\n",
    "import numpy as np \n",
    "import plotly.express as px\n"
   ]
  },
  {
   "cell_type": "code",
   "execution_count": 144,
   "metadata": {},
   "outputs": [],
   "source": [
    "df = pd.read_csv(\"complete_df.csv\")\n",
    "df_origin= pd.read_csv(\"complete_cleaned.csv\")\n"
   ]
  },
  {
   "cell_type": "code",
   "execution_count": 145,
   "metadata": {},
   "outputs": [
    {
     "data": {
      "text/plain": [
       "Unnamed: 0                0\n",
       "year                      0\n",
       "gameid                    0\n",
       "league                    0\n",
       "teamname                 22\n",
       "side                      0\n",
       "ban1                   1376\n",
       "ban2                   1206\n",
       "ban3                   1356\n",
       "ban4                   1351\n",
       "ban5                   1562\n",
       "pick1                     0\n",
       "pick2                     0\n",
       "pick3                     0\n",
       "pick4                     0\n",
       "pick5                     0\n",
       "num_counters_picked       0\n",
       "num_counters_banned       0\n",
       "PGA                       0\n",
       "higher_PGA                0\n",
       "mean_champ_wr             0\n",
       "mean_team_wr              0\n",
       "result                    0\n",
       "dtype: int64"
      ]
     },
     "execution_count": 145,
     "metadata": {},
     "output_type": "execute_result"
    }
   ],
   "source": [
    "df.isna().sum()"
   ]
  },
  {
   "cell_type": "code",
   "execution_count": 146,
   "metadata": {},
   "outputs": [
    {
     "data": {
      "text/plain": [
       "array([2017, 2018, 2019, 2020, 2021, 2022, 2023, 2024, 2025])"
      ]
     },
     "execution_count": 146,
     "metadata": {},
     "output_type": "execute_result"
    }
   ],
   "source": [
    "df['year'].unique()"
   ]
  },
  {
   "cell_type": "code",
   "execution_count": 147,
   "metadata": {},
   "outputs": [
    {
     "data": {
      "text/html": [
       "<div>\n",
       "<style scoped>\n",
       "    .dataframe tbody tr th:only-of-type {\n",
       "        vertical-align: middle;\n",
       "    }\n",
       "\n",
       "    .dataframe tbody tr th {\n",
       "        vertical-align: top;\n",
       "    }\n",
       "\n",
       "    .dataframe thead th {\n",
       "        text-align: right;\n",
       "    }\n",
       "</style>\n",
       "<table border=\"1\" class=\"dataframe\">\n",
       "  <thead>\n",
       "    <tr style=\"text-align: right;\">\n",
       "      <th></th>\n",
       "      <th>Unnamed: 0</th>\n",
       "      <th>year</th>\n",
       "      <th>gameid</th>\n",
       "      <th>league</th>\n",
       "      <th>teamname</th>\n",
       "      <th>side</th>\n",
       "      <th>ban1</th>\n",
       "      <th>ban2</th>\n",
       "      <th>ban3</th>\n",
       "      <th>ban4</th>\n",
       "      <th>...</th>\n",
       "      <th>pick3</th>\n",
       "      <th>pick4</th>\n",
       "      <th>pick5</th>\n",
       "      <th>num_counters_picked</th>\n",
       "      <th>num_counters_banned</th>\n",
       "      <th>PGA</th>\n",
       "      <th>higher_PGA</th>\n",
       "      <th>mean_champ_wr</th>\n",
       "      <th>mean_team_wr</th>\n",
       "      <th>result</th>\n",
       "    </tr>\n",
       "  </thead>\n",
       "  <tbody>\n",
       "    <tr>\n",
       "      <th>43267</th>\n",
       "      <td>43267</td>\n",
       "      <td>2021</td>\n",
       "      <td>ESPORTSTMNT02_2260358</td>\n",
       "      <td>PRM</td>\n",
       "      <td>NaN</td>\n",
       "      <td>Red</td>\n",
       "      <td>Nidalee</td>\n",
       "      <td>Twisted Fate</td>\n",
       "      <td>LeBlanc</td>\n",
       "      <td>Syndra</td>\n",
       "      <td>...</td>\n",
       "      <td>Tryndamere</td>\n",
       "      <td>Miss Fortune</td>\n",
       "      <td>Nautilus</td>\n",
       "      <td>1</td>\n",
       "      <td>0</td>\n",
       "      <td>1</td>\n",
       "      <td>0</td>\n",
       "      <td>0.500544</td>\n",
       "      <td>0.0</td>\n",
       "      <td>0</td>\n",
       "    </tr>\n",
       "    <tr>\n",
       "      <th>43287</th>\n",
       "      <td>43287</td>\n",
       "      <td>2021</td>\n",
       "      <td>ESPORTSTMNT02_2260520</td>\n",
       "      <td>PRM</td>\n",
       "      <td>NaN</td>\n",
       "      <td>Red</td>\n",
       "      <td>Shyvana</td>\n",
       "      <td>Kha'Zix</td>\n",
       "      <td>NaN</td>\n",
       "      <td>Braum</td>\n",
       "      <td>...</td>\n",
       "      <td>Kassadin</td>\n",
       "      <td>Aphelios</td>\n",
       "      <td>Thresh</td>\n",
       "      <td>0</td>\n",
       "      <td>1</td>\n",
       "      <td>1</td>\n",
       "      <td>1</td>\n",
       "      <td>0.506169</td>\n",
       "      <td>0.0</td>\n",
       "      <td>0</td>\n",
       "    </tr>\n",
       "    <tr>\n",
       "      <th>43320</th>\n",
       "      <td>43320</td>\n",
       "      <td>2021</td>\n",
       "      <td>ESPORTSTMNT02_2260767</td>\n",
       "      <td>PRM</td>\n",
       "      <td>NaN</td>\n",
       "      <td>Blue</td>\n",
       "      <td>Skarner</td>\n",
       "      <td>Riven</td>\n",
       "      <td>Camille</td>\n",
       "      <td>Irelia</td>\n",
       "      <td>...</td>\n",
       "      <td>Ezreal</td>\n",
       "      <td>Draven</td>\n",
       "      <td>Yuumi</td>\n",
       "      <td>0</td>\n",
       "      <td>0</td>\n",
       "      <td>0</td>\n",
       "      <td>0</td>\n",
       "      <td>0.498133</td>\n",
       "      <td>0.0</td>\n",
       "      <td>1</td>\n",
       "    </tr>\n",
       "    <tr>\n",
       "      <th>43355</th>\n",
       "      <td>43355</td>\n",
       "      <td>2021</td>\n",
       "      <td>ESPORTSTMNT02_2280082</td>\n",
       "      <td>PRM</td>\n",
       "      <td>NaN</td>\n",
       "      <td>Red</td>\n",
       "      <td>Lucian</td>\n",
       "      <td>Yuumi</td>\n",
       "      <td>Draven</td>\n",
       "      <td>Camille</td>\n",
       "      <td>...</td>\n",
       "      <td>Corki</td>\n",
       "      <td>Tristana</td>\n",
       "      <td>Thresh</td>\n",
       "      <td>2</td>\n",
       "      <td>0</td>\n",
       "      <td>2</td>\n",
       "      <td>1</td>\n",
       "      <td>0.497448</td>\n",
       "      <td>0.0</td>\n",
       "      <td>1</td>\n",
       "    </tr>\n",
       "    <tr>\n",
       "      <th>43543</th>\n",
       "      <td>43543</td>\n",
       "      <td>2021</td>\n",
       "      <td>ESPORTSTMNT02_2322925</td>\n",
       "      <td>PRM</td>\n",
       "      <td>NaN</td>\n",
       "      <td>Red</td>\n",
       "      <td>Nami</td>\n",
       "      <td>Lulu</td>\n",
       "      <td>Yuumi</td>\n",
       "      <td>Poppy</td>\n",
       "      <td>...</td>\n",
       "      <td>LeBlanc</td>\n",
       "      <td>Kai'Sa</td>\n",
       "      <td>Rakan</td>\n",
       "      <td>0</td>\n",
       "      <td>1</td>\n",
       "      <td>1</td>\n",
       "      <td>1</td>\n",
       "      <td>0.519457</td>\n",
       "      <td>0.0</td>\n",
       "      <td>1</td>\n",
       "    </tr>\n",
       "    <tr>\n",
       "      <th>43545</th>\n",
       "      <td>43545</td>\n",
       "      <td>2021</td>\n",
       "      <td>ESPORTSTMNT02_2322935</td>\n",
       "      <td>PRM</td>\n",
       "      <td>NaN</td>\n",
       "      <td>Red</td>\n",
       "      <td>Nami</td>\n",
       "      <td>Lulu</td>\n",
       "      <td>Yuumi</td>\n",
       "      <td>Syndra</td>\n",
       "      <td>...</td>\n",
       "      <td>Ryze</td>\n",
       "      <td>Ezreal</td>\n",
       "      <td>Rakan</td>\n",
       "      <td>0</td>\n",
       "      <td>1</td>\n",
       "      <td>1</td>\n",
       "      <td>0</td>\n",
       "      <td>0.504158</td>\n",
       "      <td>0.0</td>\n",
       "      <td>0</td>\n",
       "    </tr>\n",
       "    <tr>\n",
       "      <th>43549</th>\n",
       "      <td>43549</td>\n",
       "      <td>2021</td>\n",
       "      <td>ESPORTSTMNT02_2322954</td>\n",
       "      <td>PRM</td>\n",
       "      <td>NaN</td>\n",
       "      <td>Red</td>\n",
       "      <td>Yuumi</td>\n",
       "      <td>Draven</td>\n",
       "      <td>Viego</td>\n",
       "      <td>Lee Sin</td>\n",
       "      <td>...</td>\n",
       "      <td>Xerath</td>\n",
       "      <td>Miss Fortune</td>\n",
       "      <td>Rakan</td>\n",
       "      <td>1</td>\n",
       "      <td>0</td>\n",
       "      <td>1</td>\n",
       "      <td>0</td>\n",
       "      <td>0.496510</td>\n",
       "      <td>0.0</td>\n",
       "      <td>0</td>\n",
       "    </tr>\n",
       "    <tr>\n",
       "      <th>43672</th>\n",
       "      <td>43672</td>\n",
       "      <td>2021</td>\n",
       "      <td>ESPORTSTMNT02_2342127</td>\n",
       "      <td>PRM</td>\n",
       "      <td>NaN</td>\n",
       "      <td>Blue</td>\n",
       "      <td>Lucian</td>\n",
       "      <td>Xayah</td>\n",
       "      <td>Syndra</td>\n",
       "      <td>Jax</td>\n",
       "      <td>...</td>\n",
       "      <td>LeBlanc</td>\n",
       "      <td>Jhin</td>\n",
       "      <td>Galio</td>\n",
       "      <td>0</td>\n",
       "      <td>0</td>\n",
       "      <td>0</td>\n",
       "      <td>0</td>\n",
       "      <td>0.496397</td>\n",
       "      <td>0.0</td>\n",
       "      <td>0</td>\n",
       "    </tr>\n",
       "    <tr>\n",
       "      <th>43674</th>\n",
       "      <td>43674</td>\n",
       "      <td>2021</td>\n",
       "      <td>ESPORTSTMNT02_2342170</td>\n",
       "      <td>PRM</td>\n",
       "      <td>NaN</td>\n",
       "      <td>Blue</td>\n",
       "      <td>Viego</td>\n",
       "      <td>Lucian</td>\n",
       "      <td>Syndra</td>\n",
       "      <td>Jax</td>\n",
       "      <td>...</td>\n",
       "      <td>Malzahar</td>\n",
       "      <td>Xayah</td>\n",
       "      <td>Leona</td>\n",
       "      <td>1</td>\n",
       "      <td>1</td>\n",
       "      <td>2</td>\n",
       "      <td>1</td>\n",
       "      <td>0.509592</td>\n",
       "      <td>0.0</td>\n",
       "      <td>0</td>\n",
       "    </tr>\n",
       "    <tr>\n",
       "      <th>47308</th>\n",
       "      <td>47308</td>\n",
       "      <td>2021</td>\n",
       "      <td>ESPORTSTMNT03_2271090</td>\n",
       "      <td>PRM</td>\n",
       "      <td>NaN</td>\n",
       "      <td>Blue</td>\n",
       "      <td>Lucian</td>\n",
       "      <td>Poppy</td>\n",
       "      <td>Sona</td>\n",
       "      <td>Lulu</td>\n",
       "      <td>...</td>\n",
       "      <td>Twisted Fate</td>\n",
       "      <td>Jinx</td>\n",
       "      <td>Thresh</td>\n",
       "      <td>1</td>\n",
       "      <td>2</td>\n",
       "      <td>3</td>\n",
       "      <td>0</td>\n",
       "      <td>0.523001</td>\n",
       "      <td>0.0</td>\n",
       "      <td>1</td>\n",
       "    </tr>\n",
       "    <tr>\n",
       "      <th>47321</th>\n",
       "      <td>47321</td>\n",
       "      <td>2021</td>\n",
       "      <td>ESPORTSTMNT03_2290233</td>\n",
       "      <td>PRM</td>\n",
       "      <td>NaN</td>\n",
       "      <td>Red</td>\n",
       "      <td>Camille</td>\n",
       "      <td>Lucian</td>\n",
       "      <td>Yuumi</td>\n",
       "      <td>Braum</td>\n",
       "      <td>...</td>\n",
       "      <td>Gwen</td>\n",
       "      <td>Kai'Sa</td>\n",
       "      <td>Seraphine</td>\n",
       "      <td>2</td>\n",
       "      <td>2</td>\n",
       "      <td>4</td>\n",
       "      <td>1</td>\n",
       "      <td>0.501972</td>\n",
       "      <td>0.0</td>\n",
       "      <td>1</td>\n",
       "    </tr>\n",
       "    <tr>\n",
       "      <th>47348</th>\n",
       "      <td>47348</td>\n",
       "      <td>2021</td>\n",
       "      <td>ESPORTSTMNT03_2290491</td>\n",
       "      <td>PRM</td>\n",
       "      <td>NaN</td>\n",
       "      <td>Blue</td>\n",
       "      <td>Sett</td>\n",
       "      <td>Lucian</td>\n",
       "      <td>Yuumi</td>\n",
       "      <td>Malphite</td>\n",
       "      <td>...</td>\n",
       "      <td>Sylas</td>\n",
       "      <td>Draven</td>\n",
       "      <td>Leona</td>\n",
       "      <td>0</td>\n",
       "      <td>0</td>\n",
       "      <td>0</td>\n",
       "      <td>0</td>\n",
       "      <td>0.513837</td>\n",
       "      <td>0.0</td>\n",
       "      <td>1</td>\n",
       "    </tr>\n",
       "    <tr>\n",
       "      <th>47362</th>\n",
       "      <td>47362</td>\n",
       "      <td>2021</td>\n",
       "      <td>ESPORTSTMNT03_2290621</td>\n",
       "      <td>PRM</td>\n",
       "      <td>NaN</td>\n",
       "      <td>Blue</td>\n",
       "      <td>Lucian</td>\n",
       "      <td>Draven</td>\n",
       "      <td>Fiora</td>\n",
       "      <td>Camille</td>\n",
       "      <td>...</td>\n",
       "      <td>Orianna</td>\n",
       "      <td>Ezreal</td>\n",
       "      <td>Bard</td>\n",
       "      <td>0</td>\n",
       "      <td>0</td>\n",
       "      <td>0</td>\n",
       "      <td>0</td>\n",
       "      <td>0.505161</td>\n",
       "      <td>0.0</td>\n",
       "      <td>1</td>\n",
       "    </tr>\n",
       "    <tr>\n",
       "      <th>47369</th>\n",
       "      <td>47369</td>\n",
       "      <td>2021</td>\n",
       "      <td>ESPORTSTMNT03_2290897</td>\n",
       "      <td>PRM</td>\n",
       "      <td>NaN</td>\n",
       "      <td>Red</td>\n",
       "      <td>Yuumi</td>\n",
       "      <td>Tryndamere</td>\n",
       "      <td>Lucian</td>\n",
       "      <td>LeBlanc</td>\n",
       "      <td>...</td>\n",
       "      <td>Viktor</td>\n",
       "      <td>Jinx</td>\n",
       "      <td>Thresh</td>\n",
       "      <td>1</td>\n",
       "      <td>2</td>\n",
       "      <td>3</td>\n",
       "      <td>1</td>\n",
       "      <td>0.497656</td>\n",
       "      <td>0.0</td>\n",
       "      <td>1</td>\n",
       "    </tr>\n",
       "    <tr>\n",
       "      <th>47379</th>\n",
       "      <td>47379</td>\n",
       "      <td>2021</td>\n",
       "      <td>ESPORTSTMNT03_2291154</td>\n",
       "      <td>PRM</td>\n",
       "      <td>NaN</td>\n",
       "      <td>Red</td>\n",
       "      <td>Yuumi</td>\n",
       "      <td>Nidalee</td>\n",
       "      <td>Lucian</td>\n",
       "      <td>Alistar</td>\n",
       "      <td>...</td>\n",
       "      <td>Ezreal</td>\n",
       "      <td>Vayne</td>\n",
       "      <td>Leona</td>\n",
       "      <td>0</td>\n",
       "      <td>0</td>\n",
       "      <td>0</td>\n",
       "      <td>0</td>\n",
       "      <td>0.487168</td>\n",
       "      <td>0.0</td>\n",
       "      <td>0</td>\n",
       "    </tr>\n",
       "    <tr>\n",
       "      <th>61438</th>\n",
       "      <td>61438</td>\n",
       "      <td>2022</td>\n",
       "      <td>ESPORTSTMNT02_3043986</td>\n",
       "      <td>PRMP</td>\n",
       "      <td>NaN</td>\n",
       "      <td>Blue</td>\n",
       "      <td>Nocturne</td>\n",
       "      <td>Caitlyn</td>\n",
       "      <td>Hecarim</td>\n",
       "      <td>Olaf</td>\n",
       "      <td>...</td>\n",
       "      <td>Irelia</td>\n",
       "      <td>Seraphine</td>\n",
       "      <td>Nautilus</td>\n",
       "      <td>0</td>\n",
       "      <td>2</td>\n",
       "      <td>2</td>\n",
       "      <td>0</td>\n",
       "      <td>0.502570</td>\n",
       "      <td>0.0</td>\n",
       "      <td>1</td>\n",
       "    </tr>\n",
       "    <tr>\n",
       "      <th>61475</th>\n",
       "      <td>61475</td>\n",
       "      <td>2022</td>\n",
       "      <td>ESPORTSTMNT02_3044250</td>\n",
       "      <td>PRMP</td>\n",
       "      <td>NaN</td>\n",
       "      <td>Red</td>\n",
       "      <td>Aatrox</td>\n",
       "      <td>Azir</td>\n",
       "      <td>Caitlyn</td>\n",
       "      <td>Ezreal</td>\n",
       "      <td>...</td>\n",
       "      <td>Irelia</td>\n",
       "      <td>Miss Fortune</td>\n",
       "      <td>Nautilus</td>\n",
       "      <td>1</td>\n",
       "      <td>0</td>\n",
       "      <td>1</td>\n",
       "      <td>1</td>\n",
       "      <td>0.492189</td>\n",
       "      <td>0.0</td>\n",
       "      <td>1</td>\n",
       "    </tr>\n",
       "    <tr>\n",
       "      <th>61533</th>\n",
       "      <td>61533</td>\n",
       "      <td>2022</td>\n",
       "      <td>ESPORTSTMNT02_3046369</td>\n",
       "      <td>PRMP</td>\n",
       "      <td>NaN</td>\n",
       "      <td>Red</td>\n",
       "      <td>Nocturne</td>\n",
       "      <td>Yuumi</td>\n",
       "      <td>Seraphine</td>\n",
       "      <td>Lulu</td>\n",
       "      <td>...</td>\n",
       "      <td>Azir</td>\n",
       "      <td>Miss Fortune</td>\n",
       "      <td>Nautilus</td>\n",
       "      <td>3</td>\n",
       "      <td>0</td>\n",
       "      <td>3</td>\n",
       "      <td>1</td>\n",
       "      <td>0.501371</td>\n",
       "      <td>0.0</td>\n",
       "      <td>0</td>\n",
       "    </tr>\n",
       "    <tr>\n",
       "      <th>61542</th>\n",
       "      <td>61542</td>\n",
       "      <td>2022</td>\n",
       "      <td>ESPORTSTMNT02_3046428</td>\n",
       "      <td>PRMP</td>\n",
       "      <td>NaN</td>\n",
       "      <td>Blue</td>\n",
       "      <td>Corki</td>\n",
       "      <td>Azir</td>\n",
       "      <td>Mordekaiser</td>\n",
       "      <td>Fiora</td>\n",
       "      <td>...</td>\n",
       "      <td>Yasuo</td>\n",
       "      <td>Miss Fortune</td>\n",
       "      <td>Nautilus</td>\n",
       "      <td>1</td>\n",
       "      <td>0</td>\n",
       "      <td>1</td>\n",
       "      <td>0</td>\n",
       "      <td>0.490929</td>\n",
       "      <td>0.0</td>\n",
       "      <td>1</td>\n",
       "    </tr>\n",
       "    <tr>\n",
       "      <th>61550</th>\n",
       "      <td>61550</td>\n",
       "      <td>2022</td>\n",
       "      <td>ESPORTSTMNT02_3046470</td>\n",
       "      <td>PRMP</td>\n",
       "      <td>NaN</td>\n",
       "      <td>Blue</td>\n",
       "      <td>Azir</td>\n",
       "      <td>Yuumi</td>\n",
       "      <td>Graves</td>\n",
       "      <td>Jarvan IV</td>\n",
       "      <td>...</td>\n",
       "      <td>Akali</td>\n",
       "      <td>Kai'Sa</td>\n",
       "      <td>Nautilus</td>\n",
       "      <td>0</td>\n",
       "      <td>2</td>\n",
       "      <td>2</td>\n",
       "      <td>1</td>\n",
       "      <td>0.505478</td>\n",
       "      <td>0.0</td>\n",
       "      <td>0</td>\n",
       "    </tr>\n",
       "    <tr>\n",
       "      <th>65504</th>\n",
       "      <td>65504</td>\n",
       "      <td>2022</td>\n",
       "      <td>ESPORTSTMNT03_3001340</td>\n",
       "      <td>PRMP</td>\n",
       "      <td>NaN</td>\n",
       "      <td>Blue</td>\n",
       "      <td>Fiora</td>\n",
       "      <td>Nami</td>\n",
       "      <td>Yuumi</td>\n",
       "      <td>Renata Glasc</td>\n",
       "      <td>...</td>\n",
       "      <td>Azir</td>\n",
       "      <td>Jinx</td>\n",
       "      <td>Nautilus</td>\n",
       "      <td>1</td>\n",
       "      <td>2</td>\n",
       "      <td>3</td>\n",
       "      <td>1</td>\n",
       "      <td>0.493619</td>\n",
       "      <td>0.0</td>\n",
       "      <td>0</td>\n",
       "    </tr>\n",
       "    <tr>\n",
       "      <th>65510</th>\n",
       "      <td>65510</td>\n",
       "      <td>2022</td>\n",
       "      <td>ESPORTSTMNT03_3001372</td>\n",
       "      <td>PRMP</td>\n",
       "      <td>NaN</td>\n",
       "      <td>Blue</td>\n",
       "      <td>Fiora</td>\n",
       "      <td>Nami</td>\n",
       "      <td>Yuumi</td>\n",
       "      <td>Yone</td>\n",
       "      <td>...</td>\n",
       "      <td>Azir</td>\n",
       "      <td>Jinx</td>\n",
       "      <td>Maokai</td>\n",
       "      <td>2</td>\n",
       "      <td>2</td>\n",
       "      <td>4</td>\n",
       "      <td>1</td>\n",
       "      <td>0.496348</td>\n",
       "      <td>0.0</td>\n",
       "      <td>0</td>\n",
       "    </tr>\n",
       "  </tbody>\n",
       "</table>\n",
       "<p>22 rows × 23 columns</p>\n",
       "</div>"
      ],
      "text/plain": [
       "       Unnamed: 0  year                 gameid league teamname  side  \\\n",
       "43267       43267  2021  ESPORTSTMNT02_2260358    PRM      NaN   Red   \n",
       "43287       43287  2021  ESPORTSTMNT02_2260520    PRM      NaN   Red   \n",
       "43320       43320  2021  ESPORTSTMNT02_2260767    PRM      NaN  Blue   \n",
       "43355       43355  2021  ESPORTSTMNT02_2280082    PRM      NaN   Red   \n",
       "43543       43543  2021  ESPORTSTMNT02_2322925    PRM      NaN   Red   \n",
       "43545       43545  2021  ESPORTSTMNT02_2322935    PRM      NaN   Red   \n",
       "43549       43549  2021  ESPORTSTMNT02_2322954    PRM      NaN   Red   \n",
       "43672       43672  2021  ESPORTSTMNT02_2342127    PRM      NaN  Blue   \n",
       "43674       43674  2021  ESPORTSTMNT02_2342170    PRM      NaN  Blue   \n",
       "47308       47308  2021  ESPORTSTMNT03_2271090    PRM      NaN  Blue   \n",
       "47321       47321  2021  ESPORTSTMNT03_2290233    PRM      NaN   Red   \n",
       "47348       47348  2021  ESPORTSTMNT03_2290491    PRM      NaN  Blue   \n",
       "47362       47362  2021  ESPORTSTMNT03_2290621    PRM      NaN  Blue   \n",
       "47369       47369  2021  ESPORTSTMNT03_2290897    PRM      NaN   Red   \n",
       "47379       47379  2021  ESPORTSTMNT03_2291154    PRM      NaN   Red   \n",
       "61438       61438  2022  ESPORTSTMNT02_3043986   PRMP      NaN  Blue   \n",
       "61475       61475  2022  ESPORTSTMNT02_3044250   PRMP      NaN   Red   \n",
       "61533       61533  2022  ESPORTSTMNT02_3046369   PRMP      NaN   Red   \n",
       "61542       61542  2022  ESPORTSTMNT02_3046428   PRMP      NaN  Blue   \n",
       "61550       61550  2022  ESPORTSTMNT02_3046470   PRMP      NaN  Blue   \n",
       "65504       65504  2022  ESPORTSTMNT03_3001340   PRMP      NaN  Blue   \n",
       "65510       65510  2022  ESPORTSTMNT03_3001372   PRMP      NaN  Blue   \n",
       "\n",
       "           ban1          ban2         ban3          ban4  ...         pick3  \\\n",
       "43267   Nidalee  Twisted Fate      LeBlanc        Syndra  ...    Tryndamere   \n",
       "43287   Shyvana       Kha'Zix          NaN         Braum  ...      Kassadin   \n",
       "43320   Skarner         Riven      Camille        Irelia  ...        Ezreal   \n",
       "43355    Lucian         Yuumi       Draven       Camille  ...         Corki   \n",
       "43543      Nami          Lulu        Yuumi         Poppy  ...       LeBlanc   \n",
       "43545      Nami          Lulu        Yuumi        Syndra  ...          Ryze   \n",
       "43549     Yuumi        Draven        Viego       Lee Sin  ...        Xerath   \n",
       "43672    Lucian         Xayah       Syndra           Jax  ...       LeBlanc   \n",
       "43674     Viego        Lucian       Syndra           Jax  ...      Malzahar   \n",
       "47308    Lucian         Poppy         Sona          Lulu  ...  Twisted Fate   \n",
       "47321   Camille        Lucian        Yuumi         Braum  ...          Gwen   \n",
       "47348      Sett        Lucian        Yuumi      Malphite  ...         Sylas   \n",
       "47362    Lucian        Draven        Fiora       Camille  ...       Orianna   \n",
       "47369     Yuumi    Tryndamere       Lucian       LeBlanc  ...        Viktor   \n",
       "47379     Yuumi       Nidalee       Lucian       Alistar  ...        Ezreal   \n",
       "61438  Nocturne       Caitlyn      Hecarim          Olaf  ...        Irelia   \n",
       "61475    Aatrox          Azir      Caitlyn        Ezreal  ...        Irelia   \n",
       "61533  Nocturne         Yuumi    Seraphine          Lulu  ...          Azir   \n",
       "61542     Corki          Azir  Mordekaiser         Fiora  ...         Yasuo   \n",
       "61550      Azir         Yuumi       Graves     Jarvan IV  ...         Akali   \n",
       "65504     Fiora          Nami        Yuumi  Renata Glasc  ...          Azir   \n",
       "65510     Fiora          Nami        Yuumi          Yone  ...          Azir   \n",
       "\n",
       "              pick4      pick5 num_counters_picked num_counters_banned PGA  \\\n",
       "43267  Miss Fortune   Nautilus                   1                   0   1   \n",
       "43287      Aphelios     Thresh                   0                   1   1   \n",
       "43320        Draven      Yuumi                   0                   0   0   \n",
       "43355      Tristana     Thresh                   2                   0   2   \n",
       "43543        Kai'Sa      Rakan                   0                   1   1   \n",
       "43545        Ezreal      Rakan                   0                   1   1   \n",
       "43549  Miss Fortune      Rakan                   1                   0   1   \n",
       "43672          Jhin      Galio                   0                   0   0   \n",
       "43674         Xayah      Leona                   1                   1   2   \n",
       "47308          Jinx     Thresh                   1                   2   3   \n",
       "47321        Kai'Sa  Seraphine                   2                   2   4   \n",
       "47348        Draven      Leona                   0                   0   0   \n",
       "47362        Ezreal       Bard                   0                   0   0   \n",
       "47369          Jinx     Thresh                   1                   2   3   \n",
       "47379         Vayne      Leona                   0                   0   0   \n",
       "61438     Seraphine   Nautilus                   0                   2   2   \n",
       "61475  Miss Fortune   Nautilus                   1                   0   1   \n",
       "61533  Miss Fortune   Nautilus                   3                   0   3   \n",
       "61542  Miss Fortune   Nautilus                   1                   0   1   \n",
       "61550        Kai'Sa   Nautilus                   0                   2   2   \n",
       "65504          Jinx   Nautilus                   1                   2   3   \n",
       "65510          Jinx     Maokai                   2                   2   4   \n",
       "\n",
       "       higher_PGA  mean_champ_wr  mean_team_wr  result  \n",
       "43267           0       0.500544           0.0       0  \n",
       "43287           1       0.506169           0.0       0  \n",
       "43320           0       0.498133           0.0       1  \n",
       "43355           1       0.497448           0.0       1  \n",
       "43543           1       0.519457           0.0       1  \n",
       "43545           0       0.504158           0.0       0  \n",
       "43549           0       0.496510           0.0       0  \n",
       "43672           0       0.496397           0.0       0  \n",
       "43674           1       0.509592           0.0       0  \n",
       "47308           0       0.523001           0.0       1  \n",
       "47321           1       0.501972           0.0       1  \n",
       "47348           0       0.513837           0.0       1  \n",
       "47362           0       0.505161           0.0       1  \n",
       "47369           1       0.497656           0.0       1  \n",
       "47379           0       0.487168           0.0       0  \n",
       "61438           0       0.502570           0.0       1  \n",
       "61475           1       0.492189           0.0       1  \n",
       "61533           1       0.501371           0.0       0  \n",
       "61542           0       0.490929           0.0       1  \n",
       "61550           1       0.505478           0.0       0  \n",
       "65504           1       0.493619           0.0       0  \n",
       "65510           1       0.496348           0.0       0  \n",
       "\n",
       "[22 rows x 23 columns]"
      ]
     },
     "execution_count": 147,
     "metadata": {},
     "output_type": "execute_result"
    }
   ],
   "source": [
    "df[df['teamname'].isna()]"
   ]
  },
  {
   "cell_type": "code",
   "execution_count": 148,
   "metadata": {},
   "outputs": [],
   "source": [
    "#team missing based on year, based on league #Missingness dependency\n",
    "#bans missing based on based NMAR"
   ]
  },
  {
   "cell_type": "code",
   "execution_count": 149,
   "metadata": {},
   "outputs": [],
   "source": [
    "#team name missing dependent on year\n",
    "#team name missing dependent on league"
   ]
  },
  {
   "cell_type": "code",
   "execution_count": 150,
   "metadata": {},
   "outputs": [],
   "source": [
    "#year \n",
    "# null :  distribution of year when team name is missing is the same as when team name is not missing \n",
    "# alt  :  distribution of year when team name is missing is not the same as when team name is not missing "
   ]
  },
  {
   "cell_type": "code",
   "execution_count": 151,
   "metadata": {},
   "outputs": [],
   "source": [
    "df['team_name_missing'] = df['teamname'].isna()"
   ]
  },
  {
   "cell_type": "code",
   "execution_count": 164,
   "metadata": {},
   "outputs": [
    {
     "name": "stdout",
     "output_type": "stream",
     "text": [
      "|   year |   team_name_missing = False |   team_name_missing = True |\n",
      "|-------:|----------------------------:|---------------------------:|\n",
      "|   2017 |                  0.0924056  |                   0        |\n",
      "|   2018 |                  0.00296622 |                   0        |\n",
      "|   2019 |                  0.134793   |                   0        |\n",
      "|   2020 |                  0.160153   |                   0        |\n",
      "|   2021 |                  0.197978   |                   0.681818 |\n",
      "|   2022 |                  0.215255   |                   0.318182 |\n",
      "|   2023 |                  0.00613622 |                   0        |\n",
      "|   2024 |                  0.157504   |                   0        |\n",
      "|   2025 |                  0.0328095  |                   0        |\n"
     ]
    }
   ],
   "source": [
    "#dist of year when teamname _missing = False, True\n",
    "\n",
    "year_dist = (\n",
    "    df\n",
    "    .assign(team_name_missing = df['teamname'].isna())\n",
    "    .pivot_table(index='year', columns='team_name_missing', aggfunc='size')\n",
    ")\n",
    "\n",
    "# Added just to make the resulting pivot table easier to read.\n",
    "year_dist.columns = ['team_name_missing = False', 'team_name_missing = True']\n",
    "\n",
    "year_dist = year_dist / year_dist.sum()\n",
    "year_dist = year_dist.fillna(0)\n",
    "year_dist\n",
    "\n",
    "print(year_dist.to_markdown(index = True))"
   ]
  },
  {
   "cell_type": "code",
   "execution_count": 153,
   "metadata": {},
   "outputs": [],
   "source": [
    "def tvd(dist_a, dist_b):\n",
    "    return 0.5 * np.sum(np.abs(dist_a - dist_b))"
   ]
  },
  {
   "cell_type": "code",
   "execution_count": 154,
   "metadata": {},
   "outputs": [
    {
     "data": {
      "text/plain": [
       "np.float64(0.5867675029435739)"
      ]
     },
     "execution_count": 154,
     "metadata": {},
     "output_type": "execute_result"
    }
   ],
   "source": [
    "observed_yr_tvd = tvd(year_dist['team_name_missing = False'], year_dist['team_name_missing = True'])\n",
    "observed_yr_tvd"
   ]
  },
  {
   "cell_type": "code",
   "execution_count": 155,
   "metadata": {},
   "outputs": [],
   "source": [
    "def permutations(df):\n",
    "    n_repetitions = 1000\n",
    "    shuffled = df.copy()\n",
    "    diff_tvds = []\n",
    "    for _ in range(n_repetitions):\n",
    "        shuffled['team_name_missing'] = np.random.permutation(shuffled['team_name_missing'])\n",
    "        perm_pivot = (shuffled.pivot_table(index='year', columns='team_name_missing', aggfunc='size', fill_value=0))\n",
    "        perm_pivot.columns = ['team_name_missing = False', 'team_name_missing = True']\n",
    "\n",
    "        perm_pivot = perm_pivot / perm_pivot.sum()\n",
    "        perm_pivot = perm_pivot.fillna(0)\n",
    "\n",
    "        observed_yr_tvd = tvd(perm_pivot['team_name_missing = False'], perm_pivot['team_name_missing = True'])\n",
    "\n",
    "        diff_tvds.append(observed_yr_tvd)\n",
    "\n",
    "    return diff_tvds\n",
    "\n",
    "year_tvds = permutations(df)"
   ]
  },
  {
   "cell_type": "code",
   "execution_count": 170,
   "metadata": {},
   "outputs": [],
   "source": [
    "\n",
    "fig = px.histogram(year_tvds, x=year_tvds, nbins=50, histnorm='probability',\n",
    "                   title='Empirical Distribution of TVDs')\n",
    "\n",
    "# Add observed TVD line\n",
    "fig.add_vline(x=observed_yr_tvd, line_color='red', line_width=1, opacity=1)\n",
    "\n",
    "# Add annotation near the observed value\n",
    "fig.add_annotation(text=f'<span style=\"color:red\">Observed TVD = {round(observed_yr_tvd, 2)}</span>',\n",
    "                   x=observed_yr_tvd * 1.2, y=0.07, showarrow=False)\n",
    "\n",
    "fig.write_html('mm1-year.html', include_plotlyjs='cdn')\n"
   ]
  },
  {
   "cell_type": "code",
   "execution_count": 162,
   "metadata": {},
   "outputs": [
    {
     "data": {
      "text/plain": [
       "np.float64(0.0)"
      ]
     },
     "execution_count": 162,
     "metadata": {},
     "output_type": "execute_result"
    }
   ],
   "source": [
    "p_val_yrs = np.mean(np.array(year_tvds) >= observed_yr_tvd)\n",
    "p_val_yrs"
   ]
  },
  {
   "cell_type": "code",
   "execution_count": 168,
   "metadata": {},
   "outputs": [
    {
     "name": "stdout",
     "output_type": "stream",
     "text": [
      "| league          |   team_name_missing = False |   team_name_missing = True |\n",
      "|:----------------|----------------------------:|---------------------------:|\n",
      "| AC              |                 0.000656643 |                   0        |\n",
      "| AL              |                 0.00400779  |                   0        |\n",
      "| AOL             |                 0.000634001 |                   0        |\n",
      "| ASCI            |                 0.001268    |                   0        |\n",
      "| BIG             |                 0.00600036  |                   0        |\n",
      "| BL              |                 0.0033285   |                   0        |\n",
      "| BM              |                 0.0039625   |                   0        |\n",
      "| BRCC            |                 0.00595508  |                   0        |\n",
      "| CBLOL           |                 0.0214654   |                   0        |\n",
      "| CBLOLA          |                 0.0122272   |                   0        |\n",
      "| CDF             |                 0.00246807  |                   0        |\n",
      "| CISC            |                 0.000588715 |                   0        |\n",
      "| CK              |                 0.0151707   |                   0        |\n",
      "| CLS             |                 0.00312472  |                   0        |\n",
      "| CT              |                 0.00267186  |                   0        |\n",
      "| CU              |                 0.00355493  |                   0        |\n",
      "| DCup            |                 0.00609093  |                   0        |\n",
      "| DDH             |                 0.0119781   |                   0        |\n",
      "| DL              |                 0.00310207  |                   0        |\n",
      "| EBL             |                 0.0124762   |                   0        |\n",
      "| EBLPA           |                 0.000656643 |                   0        |\n",
      "| EGL             |                 0.00151707  |                   0        |\n",
      "| EL              |                 0.00226429  |                   0        |\n",
      "| EM              |                 0.00697401  |                   0        |\n",
      "| EPL             |                 0.0026945   |                   0        |\n",
      "| ESLOL           |                 0.00896658  |                   0        |\n",
      "| EU CS           |                 0.00219636  |                   0        |\n",
      "| EU LCS          |                 0.00638529  |                   0        |\n",
      "| EUM             |                 0.0135178   |                   0        |\n",
      "| EWC             |                 0.000271715 |                   0        |\n",
      "| GL              |                 0.00323793  |                   0        |\n",
      "| GLL             |                 0.0153066   |                   0        |\n",
      "| GLLPA           |                 0.00144914  |                   0        |\n",
      "| GPL             |                 0.00113214  |                   0        |\n",
      "| GSG             |                 0.000815144 |                   0        |\n",
      "| HC              |                 0.00898922  |                   0        |\n",
      "| HLL             |                 0.00122272  |                   0        |\n",
      "| HM              |                 0.01268     |                   0        |\n",
      "| HS              |                 0.001268    |                   0        |\n",
      "| HW              |                 0.00303415  |                   0        |\n",
      "| IC              |                 0.00224164  |                   0        |\n",
      "| IEM             |                 0.000588715 |                   0        |\n",
      "| KeSPA           |                 0.00346436  |                   0        |\n",
      "| LAS             |                 0.0132687   |                   0        |\n",
      "| LCK             |                 0.0505615   |                   0        |\n",
      "| LCKC            |                 0.020922    |                   0        |\n",
      "| LCL             |                 0.00946472  |                   0        |\n",
      "| LCO             |                 0.00892129  |                   0        |\n",
      "| LCP             |                 0.00133593  |                   0        |\n",
      "| LCS             |                 0.0228693   |                   0        |\n",
      "| LCSA            |                 0.0232316   |                   0        |\n",
      "| LDL             |                 0.0830767   |                   0        |\n",
      "| LEC             |                 0.0233674   |                   0        |\n",
      "| LFL             |                 0.0184766   |                   0        |\n",
      "| LFL2            |                 0.00869486  |                   0        |\n",
      "| LGL             |                 0.000113214 |                   0        |\n",
      "| LHE             |                 0.0155557   |                   0        |\n",
      "| LIT             |                 0.00305679  |                   0        |\n",
      "| LJL             |                 0.0185672   |                   0        |\n",
      "| LJLA            |                 0.00135857  |                   0        |\n",
      "| LLA             |                 0.0159179   |                   0        |\n",
      "| LLN             |                 0.00430215  |                   0        |\n",
      "| LMF             |                 0.0167104   |                   0        |\n",
      "| LMS             |                 0.00978172  |                   0        |\n",
      "| LPL             |                 0.0715288   |                   0        |\n",
      "| LPLOL           |                 0.0159632   |                   0        |\n",
      "| LRN             |                 0.00163029  |                   0        |\n",
      "| LRS             |                 0.00165293  |                   0        |\n",
      "| LSPL            |                 0.0113667   |                   0        |\n",
      "| LTA             |                 0.000249072 |                   0        |\n",
      "| LTA N           |                 0.000430215 |                   0        |\n",
      "| LTA S           |                 0.000452858 |                   0        |\n",
      "| LVP SL          |                 0.0132687   |                   0        |\n",
      "| MSC             |                 0.000362286 |                   0        |\n",
      "| MSI             |                 0.00620415  |                   0        |\n",
      "| NA CS           |                 0.00201522  |                   0        |\n",
      "| NA LCS          |                 0.00889865  |                   0        |\n",
      "| NACL            |                 0.00830994  |                   0        |\n",
      "| NASG            |                 0.00194729  |                   0        |\n",
      "| NERD            |                 0.000815144 |                   0        |\n",
      "| NEST            |                 0.000498143 |                   0        |\n",
      "| NEXO            |                 0.0107554   |                   0        |\n",
      "| NLC             |                 0.0181822   |                   0        |\n",
      "| NLC Aurora Open |                 0.00362286  |                   0        |\n",
      "| OCS             |                 0.0036455   |                   0        |\n",
      "| OPL             |                 0.0110271   |                   0        |\n",
      "| OTBLX           |                 0.00656643  |                   0        |\n",
      "| PCS             |                 0.0192464   |                   0        |\n",
      "| PGC             |                 0.00978172  |                   0        |\n",
      "| PGN             |                 0.011095    |                   0        |\n",
      "| PRM             |                 0.0181936   |                   0.681818 |\n",
      "| PRMP            |                 0.00426818  |                   0.318182 |\n",
      "| RCL             |                 0.00905715  |                   0        |\n",
      "| RL              |                 0.00124536  |                   0        |\n",
      "| ROL             |                 0.000543429 |                   0        |\n",
      "| Riot            |                 0.000317    |                   0        |\n",
      "| SL (LATAM)      |                 0.00321529  |                   0        |\n",
      "| SLO             |                 0.00724572  |                   0        |\n",
      "| TAL             |                 0.0135857   |                   0        |\n",
      "| TCL             |                 0.0230731   |                   0        |\n",
      "| TPL             |                 0.00156236  |                   0        |\n",
      "| TSC             |                 0.00178879  |                   0        |\n",
      "| UGP             |                 0.0020605   |                   0        |\n",
      "| UKLC            |                 0.00710986  |                   0        |\n",
      "| UL              |                 0.0158727   |                   0        |\n",
      "| UPL             |                 0.0176841   |                   0        |\n",
      "| USP             |                 0.00122272  |                   0        |\n",
      "| VCS             |                 0.0255185   |                   0        |\n",
      "| VL              |                 0.00317     |                   0        |\n",
      "| WLDs            |                 0.0125894   |                   0        |\n"
     ]
    }
   ],
   "source": [
    "#dist of league when teamname _missing = False, True\n",
    "\n",
    "league_dist = (\n",
    "    df\n",
    "    .assign(team_name_missing = df['teamname'].isna())\n",
    "    .pivot_table(index='league', columns='team_name_missing', aggfunc='size')\n",
    ")\n",
    "\n",
    "# Added just to make the resulting pivot table easier to read.\n",
    "league_dist.columns = ['team_name_missing = False', 'team_name_missing = True']\n",
    "\n",
    "league_dist = league_dist / league_dist.sum()\n",
    "league_dist = league_dist.fillna(0)\n",
    "league_dist\n",
    "\n",
    "print(league_dist.to_markdown(index = True))"
   ]
  },
  {
   "cell_type": "code",
   "execution_count": 158,
   "metadata": {},
   "outputs": [
    {
     "data": {
      "text/plain": [
       "np.float64(0.9775382664613713)"
      ]
     },
     "execution_count": 158,
     "metadata": {},
     "output_type": "execute_result"
    }
   ],
   "source": [
    "observed_league_tvd = tvd(league_dist['team_name_missing = False'], league_dist['team_name_missing = True'])\n",
    "observed_league_tvd"
   ]
  },
  {
   "cell_type": "code",
   "execution_count": 159,
   "metadata": {},
   "outputs": [],
   "source": [
    "\n",
    "def permutations_2(df):\n",
    "    n_repetitions = 1000\n",
    "    shuffled = df.copy()\n",
    "    diff_tvds = []\n",
    "    for _ in range(n_repetitions):\n",
    "        shuffled['team_name_missing'] = np.random.permutation(shuffled['team_name_missing'])\n",
    "        perm_pivot = (shuffled.pivot_table(index='league', columns='team_name_missing', aggfunc='size', fill_value=0))\n",
    "        perm_pivot.columns = ['team_name_missing = False', 'team_name_missing = True']\n",
    "\n",
    "        perm_pivot = perm_pivot / perm_pivot.sum()\n",
    "        perm_pivot = perm_pivot.fillna(0)\n",
    "\n",
    "        observed_team_tvd = tvd(perm_pivot['team_name_missing = False'], perm_pivot['team_name_missing = True'])\n",
    "\n",
    "        diff_tvds.append(observed_team_tvd)\n",
    "\n",
    "    return diff_tvds\n",
    "\n",
    "league_tvds = permutations_2(df)"
   ]
  },
  {
   "cell_type": "code",
   "execution_count": 169,
   "metadata": {},
   "outputs": [
    {
     "data": {
      "application/vnd.plotly.v1+json": {
       "config": {
        "plotlyServerURL": "https://plot.ly"
       },
       "data": [
        {
         "alignmentgroup": "True",
         "bingroup": "x",
         "histnorm": "probability",
         "hovertemplate": "x=%{x}<br>probability=%{y}<extra></extra>",
         "legendgroup": "",
         "marker": {
          "color": "#636efa",
          "pattern": {
           "shape": ""
          }
         },
         "name": "",
         "nbinsx": 50,
         "offsetgroup": "",
         "orientation": "v",
         "showlegend": false,
         "type": "histogram",
         "x": [
          0.678721253838997,
          0.7799349120221324,
          0.7089484648129699,
          0.6488779425447302,
          0.683702686680225,
          0.6633920264139448,
          0.6581604927089939,
          0.7602808951758323,
          0.6675583156993357,
          0.5983163992062643,
          0.6777928959004043,
          0.6741473927756874,
          0.6753042379231131,
          0.6443946529876248,
          0.613985269779582,
          0.7381361619089181,
          0.6351337164782506,
          0.6546055610904811,
          0.6688716025392958,
          0.6542906192620892,
          0.6346129303175767,
          0.6642967122543249,
          0.6610381964742984,
          0.6891359478308123,
          0.6453682966793192,
          0.6400009057150621,
          0.7182783591736586,
          0.6586823080913291,
          0.7647188989798356,
          0.7117788243818496,
          0.6163864439156532,
          0.6256463512033661,
          0.6409766078500795,
          0.69448172514018,
          0.6809176128644474,
          0.6464777976303201,
          0.5748347070011777,
          0.7030170603782596,
          0.6690064305769406,
          0.7044672336991875,
          0.5991315427621017,
          0.6590888506475865,
          0.6098632370256318,
          0.6856046883105122,
          0.680963927839211,
          0.7219238622983756,
          0.6254209516595169,
          0.6726292908251066,
          0.6085056936542311,
          0.6323043861310325,
          0.6265283941671952,
          0.6656336711924975,
          0.7467620686532018,
          0.5967530115025813,
          0.6857405455698183,
          0.6137598702357331,
          0.6144607701871537,
          0.741759022157084,
          0.6729926060715844,
          0.7281506533499107,
          0.6320769281438606,
          0.7342642300186908,
          0.7485292422458442,
          0.6430144667396729,
          0.6335734164395518,
          0.6011477879968053,
          0.6500327292488328,
          0.6595869939317092,
          0.6653835703287747,
          0.6677404879334053,
          0.6352469308610058,
          0.5803842701995044,
          0.6031846176647372,
          0.6215027047945263,
          0.7109873529242245,
          0.8069241916493071,
          0.6292712698948547,
          0.6591114935241373,
          0.6597002083144642,
          0.7017943450445038,
          0.6810761130003048,
          0.6232225341907436,
          0.6603794946109954,
          0.7695871174383085,
          0.7026084593786797,
          0.6660175708722037,
          0.7177122872598827,
          0.7278326238565348,
          0.6871464623593055,
          0.5883545627454694,
          0.6301769849568962,
          0.5657322706276605,
          0.6686451737737854,
          0.6759577936781089,
          0.6859443314587776,
          0.6353375023672099,
          0.676411680430791,
          0.6229312644605643,
          0.6691875735893488,
          0.6035695465661047,
          0.6596333089064726,
          0.5697863747519577,
          0.6394132201463966,
          0.6128778272719039,
          0.6020514446155241,
          0.6524771306946835,
          0.6372405332191585,
          0.7380445611810525,
          0.5967313978476917,
          0.6909020922017934,
          0.7300742686350874,
          0.6364696461947619,
          0.6231113782513111,
          0.6608786671167796,
          0.6577529209310751,
          0.6537029336934237,
          0.5822842133864689,
          0.6649996706490684,
          0.6856273311870632,
          0.5909574643271773,
          0.7045331038855176,
          0.6541084470280196,
          0.6195554174111371,
          0.6734907493557074,
          0.6827516858650816,
          0.6416322220483982,
          0.6085283365307821,
          0.6489242575194936,
          0.6707283184164807,
          0.642153008209072,
          0.6298342541436465,
          0.6720189623798899,
          0.647609941457872,
          0.655580234003837,
          0.6488110431367383,
          0.6915360927452224,
          0.665361956673885,
          0.6438275518521873,
          0.6114255955076534,
          0.5983627141810278,
          0.689250191435229,
          0.7000292298951841,
          0.6243546780182956,
          0.6508025870515682,
          0.6895918930268174,
          0.7074324213057117,
          0.6408170784925608,
          0.6536103037438968,
          0.633050571835555,
          0.5906404640554629,
          0.6559198771521024,
          0.6541527035594603,
          0.6721332059843066,
          0.739902306279899,
          0.6364017175651088,
          0.6685546022675812,
          0.6859896172118798,
          0.7117808828251723,
          0.7260232521757746,
          0.6163174860643387,
          0.6811677137281703,
          0.6352932458357691,
          0.6414057932828877,
          0.7153111131238112,
          0.6703423602934517,
          0.6568266214358053,
          0.6308758264649941,
          0.6606069525981672,
          0.6629165260063732,
          0.6933022371162033,
          0.6725623914171147,
          0.6926702950160971,
          0.6289532404014787,
          0.6967460127952838,
          0.6602673094499016,
          0.6148920140632848,
          0.731388584696709,
          0.6438512239503998,
          0.6694839894278352,
          0.6398887205539684,
          0.6271644531539469,
          0.6372642053173707,
          0.6229055339190291,
          0.5841646013618662,
          0.6586823080913291,
          0.68795954747182,
          0.5809040271385169,
          0.7031745312924554,
          0.6875735893487909,
          0.615298556619542,
          0.6304239981556348,
          0.6322364575013792,
          0.6276399535615187,
          0.6835905015191314,
          0.6370810038616398,
          0.7065719919967723,
          0.6139842405579206,
          0.6324855291434406,
          0.6469769701361042,
          0.6218197050662408,
          0.6587049509678801,
          0.612016368741303,
          0.6288853117718256,
          0.657459592757573,
          0.6795816831479362,
          0.6869406180270232,
          0.6414510790359897,
          0.7218106479156204,
          0.7050096335147509,
          0.6471117981737492,
          0.6533838749783863,
          0.6331874583165228,
          0.6716793192316244,
          0.6960883401536422,
          0.6316467134893908,
          0.7198180747791292,
          0.6195996739425776,
          0.6700027171451862,
          0.6630739969205689,
          0.6573000634000545,
          0.6089595804069131,
          0.6635278836732511,
          0.6764343233073422,
          0.6351100443800382,
          0.741125021613655,
          0.6482881985327417,
          0.6479279709512479,
          0.6072140204691605,
          0.6695529472791496,
          0.6585485092753456,
          0.724415607940651,
          0.6635515557714634,
          0.6401604350725808,
          0.6647505990070071,
          0.6001741443051108,
          0.6134408115206957,
          0.5846411309910994,
          0.7484829272710806,
          0.7404683781936748,
          0.5848891734114994,
          0.6792193971231196,
          0.7310705552033331,
          0.653112160459774,
          0.690270150101687,
          0.685446188174655,
          0.7142921836790146,
          0.5606612955018897,
          0.7095598224798478,
          0.6747134646894635,
          0.7195453310388551,
          0.6834299429399512,
          0.6848811454825403,
          0.6762974368263744,
          0.6391178335295716,
          0.7371162032424601,
          0.5947851396859638,
          0.6228839202641394,
          0.6383716478250488,
          0.6076905500983938,
          0.6458674691851035,
          0.6451181958155965,
          0.7240749355707241,
          0.6993478851553302,
          0.7241665362985896,
          0.7046710195881467,
          0.6637779845369737,
          0.7140667841351657,
          0.7101948522449384,
          0.6540652197182405,
          0.6225216342393229,
          0.7033103885517618,
          0.6530905468048843,
          0.7209718322615707,
          0.6684403586631645,
          0.7096967089608156,
          0.6470912137405208,
          0.6396622917884579,
          0.6467721550254836,
          0.6497157289771184,
          0.6002636865896536,
          0.676481667503767,
          0.5872903475475707,
          0.6817564285184973,
          0.6112907674700085,
          0.7079079217132836,
          0.6691443462795696,
          0.695093082807058,
          0.6278869667602572,
          0.6397086067632214,
          0.6436474380614404,
          0.6376460465537543,
          0.6047943203431839,
          0.6409549941951899,
          0.6607870663889142,
          0.5878780331162362,
          0.6448701533951965,
          0.6290438119076831,
          0.6705245325275214,
          0.6865330462491046,
          0.650010086372282,
          0.6783352957159678,
          0.7170103580868005,
          0.6367187178368231,
          0.6693244600703165,
          0.7275382664613713,
          0.6942089813999062,
          0.6433530806662769,
          0.6634146692904958,
          0.6475420128282189,
          0.5981136425389664,
          0.7082465356398876,
          0.66697063013067,
          0.652298046125598,
          0.6305814690698308,
          0.7423467077257495,
          0.6302222707099983,
          0.6106814682464533,
          0.6645241702414967,
          0.6329136853545876,
          0.6087321224197414,
          0.5766234942487095,
          0.6811213987534068,
          0.7167376143465266,
          0.6884350478793917,
          0.6539046611390602,
          0.6101359807659057,
          0.6253736074630921,
          0.6538830474841706,
          0.6428086224073908,
          0.6731521354291031,
          0.6420634659245293,
          0.6372178903426075,
          0.6824336563717056,
          0.6227038064733926,
          0.602912903146125,
          0.6342516735144216,
          0.6355876032309328,
          0.7211313616190892,
          0.6692565314406633,
          0.660175708722036,
          0.6217744193131388,
          0.6450296827527152,
          0.6814600126800108,
          0.5645332273921172,
          0.6104313673827305,
          0.664364640883978,
          0.6517309449901607,
          0.6758250240837869,
          0.6279775382664613,
          0.6589087368568394,
          0.6471570839268511,
          0.6813920840503579,
          0.7462186396159768,
          0.6651139142534851,
          0.6246953503882223,
          0.6906087640282914,
          0.66110509588229,
          0.616521271953298,
          0.6212989189055671,
          0.6025969320960717,
          0.6289985261545807,
          0.6125124535821032,
          0.6544028044231831,
          0.6500543429037225,
          0.6783816106907312,
          0.685196087310932,
          0.6323507011057958,
          0.6596559517830236,
          0.6195338037562474,
          0.6409971922833078,
          0.6718614914656941,
          0.6507120155453641,
          0.6462513688648098,
          0.6823904290619263,
          0.6567134070530503,
          0.618264773447728,
          0.6797628261603443,
          0.6037290759236236,
          0.7103307095042447,
          0.6890906620777104,
          0.644212480753555,
          0.7204520753225581,
          0.6779730096911513,
          0.6909020922017934,
          0.6827743287416325,
          0.634658216070679,
          0.6922637524598397,
          0.6207112333369014,
          0.6595200945237175,
          0.6417680793077044,
          0.5922254654140354,
          0.7306403405488634,
          0.6090727947896684,
          0.6293824258342872,
          0.7115307819614495,
          0.6537008752501008,
          0.6668780001811431,
          0.7308677985360352,
          0.6791730821483563,
          0.6352695737375569,
          0.6814847139998846,
          0.7178924010506297,
          0.6438748960486123,
          0.5969125408601,
          0.6504166289285391,
          0.6677857736865073,
          0.6607438390791348,
          0.6455947254448298,
          0.6603805238326568,
          0.6181742019415237,
          0.6342496150710987,
          0.796169854509226,
          0.6835658001992574,
          0.7500000000000001,
          0.7198849741871209,
          0.7655556561905624,
          0.7160140715185549,
          0.6498526154580859,
          0.6395943631588048,
          0.6394801195543881,
          0.6696414603420311,
          0.6224073906349064,
          0.7508388156540498,
          0.666629957760743,
          0.6289995553762424,
          0.6274114663526854,
          0.6721321767626451,
          0.6482460004446238,
          0.7016584877851975,
          0.6155692419164931,
          0.6481543997167583,
          0.6999839441420821,
          0.6771588953569753,
          0.6300390692542672,
          0.6744860067022915,
          0.6750067928629654,
          0.7070917489357849,
          0.7216058328049997,
          0.6606985533260328,
          0.6324844999217792,
          0.6366065326757293,
          0.6619655251912295,
          0.7326565857835671,
          0.674487035923953,
          0.6585927658067864,
          0.6443936237659633,
          0.6567360499296013,
          0.7088825946266396,
          0.7678889016969808,
          0.6206196326090359,
          0.6619212686597888,
          0.6744664514907248,
          0.6747350783443529,
          0.6293381693028466,
          0.6858547891742349,
          0.6785627537031397,
          0.7052370915019226,
          0.6280464961177759,
          0.6569861507933242,
          0.6371036467381909,
          0.6242424928572018,
          0.6198281611514108,
          0.6464108982223283,
          0.6545613045590403,
          0.6948213682884457,
          0.7557739335205146,
          0.7229211780882826,
          0.6301316992037942,
          0.6862829453853818,
          0.6362216037743619,
          0.6252377502037859,
          0.659859737671983,
          0.6322796848111584,
          0.6725840050720043,
          0.6689837877003895,
          0.7430054095890524,
          0.6867584457929536,
          0.6447332669142287,
          0.6402726202336746,
          0.6762984660480358,
          0.6596775654379131,
          0.635473359626516,
          0.648153370495097,
          0.6128315122971405,
          0.59410379494611,
          0.6276852393146208,
          0.678335295715968,
          0.6107936534075473,
          0.6834783163580374,
          0.6773390091477223,
          0.6623720677474867,
          0.6140748120641246,
          0.6261681665857012,
          0.6419049657886721,
          0.6762078945418317,
          0.611267095371796,
          0.6380103910218936,
          0.6902691208800257,
          0.7385890194399388,
          0.6297241274258756,
          0.7080211360960388,
          0.6135993116565529,
          0.6380989040847749,
          0.6516167013857441,
          0.680986570715762,
          0.76462729825197,
          0.6703444187367745,
          0.6181073025335321,
          0.6750994228124922,
          0.6552416200772329,
          0.6693913594783083,
          0.6646147417477007,
          0.6892954771883312,
          0.6262360952153544,
          0.6515271591012014,
          0.6684650599830385,
          0.7262939374727256,
          0.6612419823632576,
          0.6400256070349359,
          0.6496241282492528,
          0.6731953627388824,
          0.626869066537122,
          0.6673308577121637,
          0.6383706186033874,
          0.6957023820306132,
          0.6450049814328412,
          0.655284847387012,
          0.6714765625643265,
          0.6844962165811728,
          0.6210272043869544,
          0.6868274036442681,
          0.6896361495582581,
          0.640907649998765,
          0.7430949518735952,
          0.6432614799384114,
          0.6865783320022067,
          0.6213905196334324,
          0.6613325538694618,
          0.6606059233765057,
          0.6504619146816413,
          0.6463192974944628,
          0.6712954195519181,
          0.6226338194004166,
          0.6349299305892913,
          0.6489448419527217,
          0.6143475558043985,
          0.6416332512700597,
          0.6188761311146059,
          0.6477910844702801,
          0.6265963227968482,
          0.6534970893611415,
          0.619896089781064,
          0.6581162361775531,
          0.650418687371862,
          0.582578570781632,
          0.6419039365670106,
          0.6095235938773662,
          0.6268690665371222,
          0.7409202065030343,
          0.7197491169278145,
          0.6645694559945986,
          0.6706398053535995,
          0.6326430000576365,
          0.6823893998402648,
          0.7250022642876551,
          0.6220914195848533,
          0.6831129426682366,
          0.5756045648039128,
          0.7213351475080486,
          0.6957034112522746,
          0.6241961778824384,
          0.7149951420737581,
          0.6748277082938798,
          0.7066409498480869,
          0.6467947979020345,
          0.5625859400087279,
          0.6321674996500647,
          0.6293834550559487,
          0.7160593572716569,
          0.6010109015158378,
          0.564555870268668,
          0.5982484705766111,
          0.6791288256169155,
          0.5890338490420005,
          0.6181752311631852,
          0.669912145638982,
          0.6403858346164297,
          0.6719273616520244,
          0.7248890499049001,
          0.7687709446608098,
          0.6133286263596017,
          0.5942406814270776,
          0.6356555318605859,
          0.5880375624737549,
          0.6110406666062858,
          0.6505072004347433,
          0.6844499016064093,
          0.6532047904093009,
          0.6259859943516316,
          0.6614457682522171,
          0.6866462606318597,
          0.7341273435377231,
          0.6103407958765263,
          0.6474987855184398,
          0.6569151344986868,
          0.6601304229689341,
          0.6286804966612051,
          0.6471581131485126,
          0.636766062033248,
          0.6405906497270504,
          0.7083834221208556,
          0.5910027500802795,
          0.6621013824505357,
          0.6059017628508617,
          0.6834762579147147,
          0.6914012647075776,
          0.6337761731068496,
          0.6671980881178418,
          0.6276615672164084,
          0.5919094943639823,
          0.6478579838782721,
          0.6778608245300574,
          0.5871092045351624,
          0.6417454364311534,
          0.6493328585190735,
          0.6517988736198139,
          0.632325999785922,
          0.6666742142921838,
          0.671973676626788,
          0.5984522564655704,
          0.5797945261875159,
          0.7199086462853332,
          0.6273219240681428,
          0.7050775621444039,
          0.6666742142921838,
          0.652614017175651,
          0.6347477583552215,
          0.704488847354077,
          0.6662676717359265,
          0.6547877333245506,
          0.6491939135947831,
          0.6151174136071339,
          0.5901196778947889,
          0.6542206321891133,
          0.6338194004166289,
          0.7327914138212118,
          0.6116746671497147,
          0.642175651085623,
          0.5845032152884704,
          0.6552632337321225,
          0.6476346427777459,
          0.7357349877728467,
          0.5829408568064487,
          0.6689395311689488,
          0.7391993478851554,
          0.6241745642275485,
          0.608573622283884,
          0.6435568665552365,
          0.7226710772245598,
          0.7115081390848984,
          0.6328478151682572,
          0.6190346312504632,
          0.6738530353805239,
          0.6496930861005673,
          0.6037949461099539,
          0.7002103729075924,
          0.6850386163967362,
          0.6678290009962866,
          0.7660321858197956,
          0.6084840799993414,
          0.6486309293459915,
          0.6592483800051051,
          0.6073951634815687,
          0.7451091386649761,
          0.6475883278029823,
          0.6344781022799318,
          0.6224753192645593,
          0.625917036500317,
          0.6856715877185039,
          0.6860112308667694,
          0.6811903566047213,
          0.61921474504121,
          0.7079974639978264,
          0.6105661954203754,
          0.7354632732542343,
          0.654289590040428,
          0.6839527875439478,
          0.627775810820825,
          0.6713170332068078,
          0.6809176128644475,
          0.6740115355163812,
          0.6429228660118071,
          0.5905498925492585,
          0.7096730368626032,
          0.6577982066841772,
          0.726429794732032,
          0.6908804785469038,
          0.6355865740092712,
          0.6479722274826886,
          0.6983299849321949,
          0.6336845723789843,
          0.6690301026751531,
          0.6607664819556858,
          0.6598144519188809,
          0.6848564441626666,
          0.5759215650756273,
          0.6818222987048276,
          0.6499421577426288,
          0.6025279742447571,
          0.5991768285152037,
          0.6295872409449079,
          0.6321674996500647,
          0.6566907641764992,
          0.7028359173658514,
          0.6371026175165294,
          0.6767739664556076,
          0.6937324517706731,
          0.6410445364797326,
          0.6229065631406907,
          0.6880964339527877,
          0.6091613078525497,
          0.6311475409836067,
          0.6548566911758652,
          0.6554217338679797,
          0.6993262715004407,
          0.6324639154885509,
          0.7076362071946712,
          0.6867141892615128,
          0.6316909700208315,
          0.6322817432544812,
          0.6937581823122083,
          0.6890680192011595,
          0.592996352438432,
          0.6686904595268875,
          0.6096141653835705,
          0.6334355007369228,
          0.7017480300697402,
          0.6767060378259545,
          0.6868047607677171,
          0.6709547471819912,
          0.6141447991371007,
          0.6733765057512907,
          0.72769779581889,
          0.6881870054589918,
          0.6833630435319595,
          0.6241508921293362,
          0.7052350330585999,
          0.7017943450445037,
          0.6858764028291245,
          0.6460475829758505,
          0.6003985146272983,
          0.6039102189360318,
          0.7070022066512421,
          0.6847442590015728,
          0.6739209640101771,
          0.7057558192192737,
          0.6949109105729884,
          0.6677168158351928,
          0.7121205259734379,
          0.6469749116927815,
          0.642378407752921,
          0.6487420852854238,
          0.6333902149838206,
          0.6184253320269081,
          0.6752568937266883,
          0.666584672007641,
          0.6779740389128126,
          0.6924428370289253,
          0.6842471449391113,
          0.6130569118409894,
          0.6376707478736281,
          0.6222036047459469,
          0.6570973067327565,
          0.6432635383817341,
          0.7690210455245325,
          0.6180609875587685,
          0.7157876427530445,
          0.5769404945204241,
          0.701795374266165,
          0.6367187178368231,
          0.6272087096853877,
          0.7338329861425595,
          0.7319320137339339,
          0.7525370313953775,
          0.6615116384385473,
          0.68580744497781,
          0.6553321915834369,
          0.6010572164906012,
          0.6602673094499018,
          0.5987929288354975,
          0.6383273912936082,
          0.7303006974005978,
          0.6213915488550938,
          0.6261887510189296,
          0.6356997883920265,
          0.5911612502161366,
          0.708382392899194,
          0.7423014219726475,
          0.7416684506508798,
          0.6351121028233611,
          0.6752332216284757,
          0.7131147540983608,
          0.6592041234736644,
          0.6092302657038642,
          0.6793995109138665,
          0.6447795818889922,
          0.6741463635540259,
          0.6327356300071635,
          0.6438285810738488,
          0.7375248042420399,
          0.6137361981375205,
          0.6916060798181982,
          0.6297663255139934,
          0.6582078369054187,
          0.7150630707034114,
          0.6226801343751802,
          0.6485846143712279,
          0.6268001086858075,
          0.7132063548262261,
          0.68795954747182,
          0.6634836271418103,
          0.6485372701748031,
          0.6404547924677442,
          0.6503044437674453,
          0.692555022190019,
          0.6742853084783164,
          0.6517546170883732,
          0.6890916912993719,
          0.6930531654741419,
          0.6657932005500162,
          0.6795127252966219,
          0.6054931618512817,
          0.7456072819490989,
          0.6382357905657428,
          0.7804093832080428,
          0.6443256951363102,
          0.6983083712773053,
          0.7039443890951907,
          0.6570304073247647,
          0.5929500374636687,
          0.5938783954022611,
          0.6462956253962503,
          0.6712254324789422,
          0.6990082420070646,
          0.6314213139455418,
          0.6917182649792921,
          0.6618070250553721,
          0.5836880717326329,
          0.6643203843525373,
          0.6854904447060954,
          0.7206105754584154,
          0.5806549554964555,
          0.6688716025392956,
          0.6260765658578359,
          0.6553548344599881,
          0.6594974516471663,
          0.6261012671777096,
          0.6027327893553778,
          0.6768182229870483,
          0.6767739664556077,
          0.5916593935002594,
          0.6120369531745313,
          0.5754265094564888,
          0.7044888473540768,
          0.7109410379494612,
          0.6778618537517189,
          0.6753474652328924,
          0.5931548525742893,
          0.7307309120550676,
          0.6279116680801312,
          0.6401830779491317,
          0.6659506714642118,
          0.5545703617096609,
          0.6688489596627447,
          0.6171089575219636,
          0.5698316605050597,
          0.6837932581864292,
          0.7557060048908614,
          0.6169957431392085,
          0.6541763756576726,
          0.6958382392899195,
          0.5631520119225039,
          0.6378045466896115,
          0.6038865468378195,
          0.6991214563898198,
          0.6567113486097275,
          0.7092881079612355,
          0.6420614074812064,
          0.5787982396192705,
          0.674509678800504,
          0.6848574733843279,
          0.6614694403504295,
          0.6396839054433475,
          0.6397291911964497,
          0.6388924339857228,
          0.6980345983153701,
          0.6509168306559848,
          0.6966327984125286,
          0.6374679912063301,
          0.5581263225498351,
          0.6308758264649942,
          0.730731941276729,
          0.7070011774295808,
          0.6398897497756297,
          0.691038978682761,
          0.6417907221842555,
          0.6586370223382269,
          0.7770129517253873,
          0.6385517616157956,
          0.6841781870877969,
          0.6551489901277058,
          0.629021169031132,
          0.6239491646836995,
          0.6793326115058749,
          0.6969034837094796,
          0.6169062008546657,
          0.693687166017571,
          0.6334807864900248,
          0.6622372397098417,
          0.7155375418893217,
          0.5357778033939614,
          0.6606995825476942,
          0.6710916336629588,
          0.654039489176705,
          0.701454701896238,
          0.6673318869338254,
          0.6308315699335535,
          0.651413944718446,
          0.7123459255172869,
          0.6110416958279471,
          0.6690753884282551,
          0.765850013585726,
          0.6964073988686796,
          0.627730525067723,
          0.6733785641946135,
          0.6269133230685626,
          0.6102275814937712,
          0.5796576397065484,
          0.6509168306559848,
          0.6379198195156894,
          0.6392094342574373,
          0.6664024997735714,
          0.7019302023038099,
          0.7191604021374876,
          0.6827516858650814,
          0.606037620110168,
          0.681868613679591,
          0.6439654675548164,
          0.6277758108208249,
          0.7239154062132055,
          0.7443166379856898,
          0.6287257824143072,
          0.674055792047822,
          0.5998334719351839,
          0.6469316843830024,
          0.6498505570147632,
          0.6462976838395732,
          0.6674440720949188,
          0.6422672518134886,
          0.6483108414092928,
          0.6772494668631794,
          0.6466373269878387,
          0.7425278507381579,
          0.5994948580085796,
          0.7262929082510643,
          0.6773873825658085,
          0.5821483561271624,
          0.6642298128463332,
          0.7044209187244239,
          0.7538719318902273,
          0.7171915010992088,
          0.5519437880297404,
          0.6694376744530718,
          0.6605832804999547,
          0.718392602778075,
          0.6479063572963583,
          0.574881021975941,
          0.6233367777951603,
          0.6667884578966004,
          0.6273219240681428,
          0.6293155264262954,
          0.6572558068686138,
          0.6990308848836159,
          0.6953647973256704,
          0.6827290429885304,
          0.6941194391153634,
          0.6676272735506502,
          0.7206332183349664,
          0.6764806382821057,
          0.6876209335452158,
          0.6646373846242518,
          0.6280691389943269,
          0.6382121184675301,
          0.6309910992910723,
          0.6788560818766416,
          0.5962785403166709,
          0.5893271772155025,
          0.6970835975002265,
          0.567023943812731,
          0.6254662374126191
         ],
         "xaxis": "x",
         "yaxis": "y"
        }
       ],
       "layout": {
        "annotations": [
         {
          "showarrow": false,
          "text": "<span style=\"color:red\">Observed TVD = 0.98</span>",
          "x": 1.1730459197536456,
          "y": 0.07
         }
        ],
        "barmode": "relative",
        "legend": {
         "tracegroupgap": 0
        },
        "shapes": [
         {
          "line": {
           "color": "red",
           "width": 1
          },
          "opacity": 1,
          "type": "line",
          "x0": 0.9775382664613713,
          "x1": 0.9775382664613713,
          "xref": "x",
          "y0": 0,
          "y1": 1,
          "yref": "y domain"
         }
        ],
        "template": {
         "data": {
          "bar": [
           {
            "error_x": {
             "color": "#2a3f5f"
            },
            "error_y": {
             "color": "#2a3f5f"
            },
            "marker": {
             "line": {
              "color": "#E5ECF6",
              "width": 0.5
             },
             "pattern": {
              "fillmode": "overlay",
              "size": 10,
              "solidity": 0.2
             }
            },
            "type": "bar"
           }
          ],
          "barpolar": [
           {
            "marker": {
             "line": {
              "color": "#E5ECF6",
              "width": 0.5
             },
             "pattern": {
              "fillmode": "overlay",
              "size": 10,
              "solidity": 0.2
             }
            },
            "type": "barpolar"
           }
          ],
          "carpet": [
           {
            "aaxis": {
             "endlinecolor": "#2a3f5f",
             "gridcolor": "white",
             "linecolor": "white",
             "minorgridcolor": "white",
             "startlinecolor": "#2a3f5f"
            },
            "baxis": {
             "endlinecolor": "#2a3f5f",
             "gridcolor": "white",
             "linecolor": "white",
             "minorgridcolor": "white",
             "startlinecolor": "#2a3f5f"
            },
            "type": "carpet"
           }
          ],
          "choropleth": [
           {
            "colorbar": {
             "outlinewidth": 0,
             "ticks": ""
            },
            "type": "choropleth"
           }
          ],
          "contour": [
           {
            "colorbar": {
             "outlinewidth": 0,
             "ticks": ""
            },
            "colorscale": [
             [
              0,
              "#0d0887"
             ],
             [
              0.1111111111111111,
              "#46039f"
             ],
             [
              0.2222222222222222,
              "#7201a8"
             ],
             [
              0.3333333333333333,
              "#9c179e"
             ],
             [
              0.4444444444444444,
              "#bd3786"
             ],
             [
              0.5555555555555556,
              "#d8576b"
             ],
             [
              0.6666666666666666,
              "#ed7953"
             ],
             [
              0.7777777777777778,
              "#fb9f3a"
             ],
             [
              0.8888888888888888,
              "#fdca26"
             ],
             [
              1,
              "#f0f921"
             ]
            ],
            "type": "contour"
           }
          ],
          "contourcarpet": [
           {
            "colorbar": {
             "outlinewidth": 0,
             "ticks": ""
            },
            "type": "contourcarpet"
           }
          ],
          "heatmap": [
           {
            "colorbar": {
             "outlinewidth": 0,
             "ticks": ""
            },
            "colorscale": [
             [
              0,
              "#0d0887"
             ],
             [
              0.1111111111111111,
              "#46039f"
             ],
             [
              0.2222222222222222,
              "#7201a8"
             ],
             [
              0.3333333333333333,
              "#9c179e"
             ],
             [
              0.4444444444444444,
              "#bd3786"
             ],
             [
              0.5555555555555556,
              "#d8576b"
             ],
             [
              0.6666666666666666,
              "#ed7953"
             ],
             [
              0.7777777777777778,
              "#fb9f3a"
             ],
             [
              0.8888888888888888,
              "#fdca26"
             ],
             [
              1,
              "#f0f921"
             ]
            ],
            "type": "heatmap"
           }
          ],
          "heatmapgl": [
           {
            "colorbar": {
             "outlinewidth": 0,
             "ticks": ""
            },
            "colorscale": [
             [
              0,
              "#0d0887"
             ],
             [
              0.1111111111111111,
              "#46039f"
             ],
             [
              0.2222222222222222,
              "#7201a8"
             ],
             [
              0.3333333333333333,
              "#9c179e"
             ],
             [
              0.4444444444444444,
              "#bd3786"
             ],
             [
              0.5555555555555556,
              "#d8576b"
             ],
             [
              0.6666666666666666,
              "#ed7953"
             ],
             [
              0.7777777777777778,
              "#fb9f3a"
             ],
             [
              0.8888888888888888,
              "#fdca26"
             ],
             [
              1,
              "#f0f921"
             ]
            ],
            "type": "heatmapgl"
           }
          ],
          "histogram": [
           {
            "marker": {
             "pattern": {
              "fillmode": "overlay",
              "size": 10,
              "solidity": 0.2
             }
            },
            "type": "histogram"
           }
          ],
          "histogram2d": [
           {
            "colorbar": {
             "outlinewidth": 0,
             "ticks": ""
            },
            "colorscale": [
             [
              0,
              "#0d0887"
             ],
             [
              0.1111111111111111,
              "#46039f"
             ],
             [
              0.2222222222222222,
              "#7201a8"
             ],
             [
              0.3333333333333333,
              "#9c179e"
             ],
             [
              0.4444444444444444,
              "#bd3786"
             ],
             [
              0.5555555555555556,
              "#d8576b"
             ],
             [
              0.6666666666666666,
              "#ed7953"
             ],
             [
              0.7777777777777778,
              "#fb9f3a"
             ],
             [
              0.8888888888888888,
              "#fdca26"
             ],
             [
              1,
              "#f0f921"
             ]
            ],
            "type": "histogram2d"
           }
          ],
          "histogram2dcontour": [
           {
            "colorbar": {
             "outlinewidth": 0,
             "ticks": ""
            },
            "colorscale": [
             [
              0,
              "#0d0887"
             ],
             [
              0.1111111111111111,
              "#46039f"
             ],
             [
              0.2222222222222222,
              "#7201a8"
             ],
             [
              0.3333333333333333,
              "#9c179e"
             ],
             [
              0.4444444444444444,
              "#bd3786"
             ],
             [
              0.5555555555555556,
              "#d8576b"
             ],
             [
              0.6666666666666666,
              "#ed7953"
             ],
             [
              0.7777777777777778,
              "#fb9f3a"
             ],
             [
              0.8888888888888888,
              "#fdca26"
             ],
             [
              1,
              "#f0f921"
             ]
            ],
            "type": "histogram2dcontour"
           }
          ],
          "mesh3d": [
           {
            "colorbar": {
             "outlinewidth": 0,
             "ticks": ""
            },
            "type": "mesh3d"
           }
          ],
          "parcoords": [
           {
            "line": {
             "colorbar": {
              "outlinewidth": 0,
              "ticks": ""
             }
            },
            "type": "parcoords"
           }
          ],
          "pie": [
           {
            "automargin": true,
            "type": "pie"
           }
          ],
          "scatter": [
           {
            "fillpattern": {
             "fillmode": "overlay",
             "size": 10,
             "solidity": 0.2
            },
            "type": "scatter"
           }
          ],
          "scatter3d": [
           {
            "line": {
             "colorbar": {
              "outlinewidth": 0,
              "ticks": ""
             }
            },
            "marker": {
             "colorbar": {
              "outlinewidth": 0,
              "ticks": ""
             }
            },
            "type": "scatter3d"
           }
          ],
          "scattercarpet": [
           {
            "marker": {
             "colorbar": {
              "outlinewidth": 0,
              "ticks": ""
             }
            },
            "type": "scattercarpet"
           }
          ],
          "scattergeo": [
           {
            "marker": {
             "colorbar": {
              "outlinewidth": 0,
              "ticks": ""
             }
            },
            "type": "scattergeo"
           }
          ],
          "scattergl": [
           {
            "marker": {
             "colorbar": {
              "outlinewidth": 0,
              "ticks": ""
             }
            },
            "type": "scattergl"
           }
          ],
          "scattermapbox": [
           {
            "marker": {
             "colorbar": {
              "outlinewidth": 0,
              "ticks": ""
             }
            },
            "type": "scattermapbox"
           }
          ],
          "scatterpolar": [
           {
            "marker": {
             "colorbar": {
              "outlinewidth": 0,
              "ticks": ""
             }
            },
            "type": "scatterpolar"
           }
          ],
          "scatterpolargl": [
           {
            "marker": {
             "colorbar": {
              "outlinewidth": 0,
              "ticks": ""
             }
            },
            "type": "scatterpolargl"
           }
          ],
          "scatterternary": [
           {
            "marker": {
             "colorbar": {
              "outlinewidth": 0,
              "ticks": ""
             }
            },
            "type": "scatterternary"
           }
          ],
          "surface": [
           {
            "colorbar": {
             "outlinewidth": 0,
             "ticks": ""
            },
            "colorscale": [
             [
              0,
              "#0d0887"
             ],
             [
              0.1111111111111111,
              "#46039f"
             ],
             [
              0.2222222222222222,
              "#7201a8"
             ],
             [
              0.3333333333333333,
              "#9c179e"
             ],
             [
              0.4444444444444444,
              "#bd3786"
             ],
             [
              0.5555555555555556,
              "#d8576b"
             ],
             [
              0.6666666666666666,
              "#ed7953"
             ],
             [
              0.7777777777777778,
              "#fb9f3a"
             ],
             [
              0.8888888888888888,
              "#fdca26"
             ],
             [
              1,
              "#f0f921"
             ]
            ],
            "type": "surface"
           }
          ],
          "table": [
           {
            "cells": {
             "fill": {
              "color": "#EBF0F8"
             },
             "line": {
              "color": "white"
             }
            },
            "header": {
             "fill": {
              "color": "#C8D4E3"
             },
             "line": {
              "color": "white"
             }
            },
            "type": "table"
           }
          ]
         },
         "layout": {
          "annotationdefaults": {
           "arrowcolor": "#2a3f5f",
           "arrowhead": 0,
           "arrowwidth": 1
          },
          "autotypenumbers": "strict",
          "coloraxis": {
           "colorbar": {
            "outlinewidth": 0,
            "ticks": ""
           }
          },
          "colorscale": {
           "diverging": [
            [
             0,
             "#8e0152"
            ],
            [
             0.1,
             "#c51b7d"
            ],
            [
             0.2,
             "#de77ae"
            ],
            [
             0.3,
             "#f1b6da"
            ],
            [
             0.4,
             "#fde0ef"
            ],
            [
             0.5,
             "#f7f7f7"
            ],
            [
             0.6,
             "#e6f5d0"
            ],
            [
             0.7,
             "#b8e186"
            ],
            [
             0.8,
             "#7fbc41"
            ],
            [
             0.9,
             "#4d9221"
            ],
            [
             1,
             "#276419"
            ]
           ],
           "sequential": [
            [
             0,
             "#0d0887"
            ],
            [
             0.1111111111111111,
             "#46039f"
            ],
            [
             0.2222222222222222,
             "#7201a8"
            ],
            [
             0.3333333333333333,
             "#9c179e"
            ],
            [
             0.4444444444444444,
             "#bd3786"
            ],
            [
             0.5555555555555556,
             "#d8576b"
            ],
            [
             0.6666666666666666,
             "#ed7953"
            ],
            [
             0.7777777777777778,
             "#fb9f3a"
            ],
            [
             0.8888888888888888,
             "#fdca26"
            ],
            [
             1,
             "#f0f921"
            ]
           ],
           "sequentialminus": [
            [
             0,
             "#0d0887"
            ],
            [
             0.1111111111111111,
             "#46039f"
            ],
            [
             0.2222222222222222,
             "#7201a8"
            ],
            [
             0.3333333333333333,
             "#9c179e"
            ],
            [
             0.4444444444444444,
             "#bd3786"
            ],
            [
             0.5555555555555556,
             "#d8576b"
            ],
            [
             0.6666666666666666,
             "#ed7953"
            ],
            [
             0.7777777777777778,
             "#fb9f3a"
            ],
            [
             0.8888888888888888,
             "#fdca26"
            ],
            [
             1,
             "#f0f921"
            ]
           ]
          },
          "colorway": [
           "#636efa",
           "#EF553B",
           "#00cc96",
           "#ab63fa",
           "#FFA15A",
           "#19d3f3",
           "#FF6692",
           "#B6E880",
           "#FF97FF",
           "#FECB52"
          ],
          "font": {
           "color": "#2a3f5f"
          },
          "geo": {
           "bgcolor": "white",
           "lakecolor": "white",
           "landcolor": "#E5ECF6",
           "showlakes": true,
           "showland": true,
           "subunitcolor": "white"
          },
          "hoverlabel": {
           "align": "left"
          },
          "hovermode": "closest",
          "mapbox": {
           "style": "light"
          },
          "paper_bgcolor": "white",
          "plot_bgcolor": "#E5ECF6",
          "polar": {
           "angularaxis": {
            "gridcolor": "white",
            "linecolor": "white",
            "ticks": ""
           },
           "bgcolor": "#E5ECF6",
           "radialaxis": {
            "gridcolor": "white",
            "linecolor": "white",
            "ticks": ""
           }
          },
          "scene": {
           "xaxis": {
            "backgroundcolor": "#E5ECF6",
            "gridcolor": "white",
            "gridwidth": 2,
            "linecolor": "white",
            "showbackground": true,
            "ticks": "",
            "zerolinecolor": "white"
           },
           "yaxis": {
            "backgroundcolor": "#E5ECF6",
            "gridcolor": "white",
            "gridwidth": 2,
            "linecolor": "white",
            "showbackground": true,
            "ticks": "",
            "zerolinecolor": "white"
           },
           "zaxis": {
            "backgroundcolor": "#E5ECF6",
            "gridcolor": "white",
            "gridwidth": 2,
            "linecolor": "white",
            "showbackground": true,
            "ticks": "",
            "zerolinecolor": "white"
           }
          },
          "shapedefaults": {
           "line": {
            "color": "#2a3f5f"
           }
          },
          "ternary": {
           "aaxis": {
            "gridcolor": "white",
            "linecolor": "white",
            "ticks": ""
           },
           "baxis": {
            "gridcolor": "white",
            "linecolor": "white",
            "ticks": ""
           },
           "bgcolor": "#E5ECF6",
           "caxis": {
            "gridcolor": "white",
            "linecolor": "white",
            "ticks": ""
           }
          },
          "title": {
           "x": 0.05
          },
          "xaxis": {
           "automargin": true,
           "gridcolor": "white",
           "linecolor": "white",
           "ticks": "",
           "title": {
            "standoff": 15
           },
           "zerolinecolor": "white",
           "zerolinewidth": 2
          },
          "yaxis": {
           "automargin": true,
           "gridcolor": "white",
           "linecolor": "white",
           "ticks": "",
           "title": {
            "standoff": 15
           },
           "zerolinecolor": "white",
           "zerolinewidth": 2
          }
         }
        },
        "title": {
         "text": "Empirical Distribution of TVDs"
        },
        "xaxis": {
         "anchor": "y",
         "domain": [
          0,
          1
         ],
         "title": {
          "text": "x"
         }
        },
        "yaxis": {
         "anchor": "x",
         "domain": [
          0,
          1
         ],
         "title": {
          "text": "probability"
         }
        }
       }
      }
     },
     "metadata": {},
     "output_type": "display_data"
    }
   ],
   "source": [
    "\n",
    "fig = px.histogram(league_tvds, x=league_tvds, nbins=50, histnorm='probability',\n",
    "                   title='Empirical Distribution of TVDs')\n",
    "\n",
    "# Add observed TVD line\n",
    "fig.add_vline(x=observed_league_tvd, line_color='red', line_width=1, opacity=1)\n",
    "\n",
    "# Add annotation near the observed value\n",
    "fig.add_annotation(text=f'<span style=\"color:red\">Observed TVD = {round(observed_league_tvd, 2)}</span>',\n",
    "                   x=observed_league_tvd * 1.2, y=0.07, showarrow=False)\n",
    "\n",
    "fig.show()\n",
    "fig.write_html('mm1-league.html', include_plotlyjs='cdn')\n"
   ]
  },
  {
   "cell_type": "code",
   "execution_count": 163,
   "metadata": {},
   "outputs": [
    {
     "data": {
      "text/plain": [
       "np.float64(0.0)"
      ]
     },
     "execution_count": 163,
     "metadata": {},
     "output_type": "execute_result"
    }
   ],
   "source": [
    "p_val_league = np.mean(np.array(league_tvds) >= observed_league_tvd)\n",
    "p_val_league"
   ]
  },
  {
   "cell_type": "code",
   "execution_count": null,
   "metadata": {},
   "outputs": [],
   "source": []
  }
 ],
 "metadata": {
  "kernelspec": {
   "display_name": "dsc80",
   "language": "python",
   "name": "python3"
  },
  "language_info": {
   "codemirror_mode": {
    "name": "ipython",
    "version": 3
   },
   "file_extension": ".py",
   "mimetype": "text/x-python",
   "name": "python",
   "nbconvert_exporter": "python",
   "pygments_lexer": "ipython3",
   "version": "3.12.8"
  }
 },
 "nbformat": 4,
 "nbformat_minor": 2
}
